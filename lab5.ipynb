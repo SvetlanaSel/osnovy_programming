{
  "nbformat": 4,
  "nbformat_minor": 0,
  "metadata": {
    "colab": {
      "provenance": [],
      "authorship_tag": "ABX9TyO0QfbpSocPjonDa6ZRHV3B",
      "include_colab_link": true
    },
    "kernelspec": {
      "name": "python3",
      "display_name": "Python 3"
    },
    "language_info": {
      "name": "python"
    }
  },
  "cells": [
    {
      "cell_type": "markdown",
      "metadata": {
        "id": "view-in-github",
        "colab_type": "text"
      },
      "source": [
        "<a href=\"https://colab.research.google.com/github/SvetlanaSel/osnovy_programming/blob/main/lab5.ipynb\" target=\"_parent\"><img src=\"https://colab.research.google.com/assets/colab-badge.svg\" alt=\"Open In Colab\"/></a>"
      ]
    },
    {
      "cell_type": "markdown",
      "source": [
        "#Лабораторная работа №5\n",
        "\n",
        "#5.2.1\n",
        "\n",
        "5.2.1. Определите значение z, где sgn - сигнум-функция, а x и y - вещественные числа: \n",
        "![2022-10-04 (2).png](data:image/png;base64,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)\n",
        "\n",
        "\n",
        "\n",
        "\n",
        "![2022-10-04 (3).png](data:image/png;base64,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)\n",
        "\n"
      ],
      "metadata": {
        "id": "GnCdtZFRaJWP"
      }
    },
    {
      "cell_type": "code",
      "source": [
        "from math import*"
      ],
      "metadata": {
        "id": "fbXysQ_jNnme"
      },
      "execution_count": null,
      "outputs": []
    },
    {
      "cell_type": "code",
      "source": [
        "def input_data():\n",
        "  return(float(x) for x in input(\"Введите x, y:\").split())\n",
        "\n",
        "\n",
        "def sgn(a):\n",
        "  if a > 0:\n",
        "    res = 1\n",
        "    return res\n",
        "  elif a < 0:\n",
        "    res = -1\n",
        "    return res\n",
        "  elif a == 0:\n",
        "    res = 0\n",
        "  return res\n",
        "\n",
        "def znachenie(a, b):\n",
        "\n",
        "  if (a==0 and b==0 or abs(a)==abs(b) or abs(a)-abs(b)==1):\n",
        "    return\n",
        "  z = (sgn(a)+b**2)/(sgn(b)-sqrt(abs(a)))\n",
        "  return z\n",
        "\n",
        "def print_res(res):\n",
        "  if res:\n",
        "    print(\"Ответ: {:.2f}\".format(res))\n",
        "  else:\n",
        "    print(\"Проверить ОДЗ\")\n"
      ],
      "metadata": {
        "id": "fagUdMGSJpSk"
      },
      "execution_count": null,
      "outputs": []
    },
    {
      "cell_type": "code",
      "source": [
        "x, y = input_data()\n",
        "res = znachenie(x, y)\n",
        "print_res(res)"
      ],
      "metadata": {
        "colab": {
          "base_uri": "https://localhost:8080/"
        },
        "id": "fhxu7RCQMhSa",
        "outputId": "6ec2c73c-640e-4145-88a3-2dd0efd251d7"
      },
      "execution_count": null,
      "outputs": [
        {
          "output_type": "stream",
          "name": "stdout",
          "text": [
            "Введите x, y:-9 0\n",
            "Ответ: 0.33\n"
          ]
        }
      ]
    },
    {
      "cell_type": "code",
      "execution_count": null,
      "metadata": {
        "id": "pTugDi4zWWaT"
      },
      "outputs": [],
      "source": [
        "# Программирование на языке высокого уровня (Python).\n",
        "# https://www.yuripetrov.ru/edu/python\n",
        "# Задание task_05_02_01.\n",
        "# Выполнил: Селиверстова Светлана Николаевна\n",
        "# Группа: АДЭУ-221\n",
        "# E-mail: svseliverstova2804@mail.ru\n",
        "\n",
        "\n",
        "def sgn(x):\n",
        "  if x < 0:\n",
        "     return(-1)\n",
        "  elif x > 0:\n",
        "       return(1)\n",
        "  else:\n",
        "         return(0)"
      ]
    },
    {
      "cell_type": "code",
      "source": [
        "x = float(input('Введите x: '))\n",
        "y = float(input('Введите y: '))\n",
        "\n",
        "z = (sgn(x)+y**2)/(sgn(y)-abs(x)**0.5)\n",
        "\n",
        "print(\"Ответ:\", round(z, 2))\n",
        "\n",
        "# --------------\n",
        "# Пример вывода:\n",
        "#\n",
        "# Введите x: -9\n",
        "# Введите y: 0\n",
        "# Ответ: 0.33"
      ],
      "metadata": {
        "colab": {
          "base_uri": "https://localhost:8080/"
        },
        "id": "gfWNIk8fahuG",
        "outputId": "4ee59575-baf3-480d-ab2a-fe2dc3f5d27c"
      },
      "execution_count": null,
      "outputs": [
        {
          "output_type": "stream",
          "name": "stdout",
          "text": [
            "Введите x: -9\n",
            "Введите y: 0\n",
            "Ответ: 0.33\n"
          ]
        }
      ]
    },
    {
      "cell_type": "markdown",
      "source": [
        "#5.2.2.\n",
        "\n",
        "5.2.2.\n",
        "Дан список температурных изменений в течение дня (целые числа). Известно, что измеряющее устройство иногда сбоит и записывает отсутствие температуры (значение None).\n",
        "\n",
        "Выведите среднюю температуру за наблюдаемый промежуток времени, предварительно очистив список от неопределенных значений. Гарантируется, что хотя бы одно определенное значение в списке есть."
      ],
      "metadata": {
        "id": "caSt6a04d4q8"
      }
    },
    {
      "cell_type": "code",
      "source": [
        "# Задание task_05_02_02.\n",
        "def input_data():\n",
        "\n",
        "  for i in range(n):\n",
        "    dimension = input('Измерение{}-е: '.format(i+1))\n",
        "    if dimension == \"-\":\n",
        "      data.append(None)\n",
        "    else:\n",
        "      data.append(int(dimension))\n",
        "    i+=1\n",
        "\n",
        "def avg(new_data):\n",
        "  return sum(new_data)/len(new_data)\n",
        "def cleared_data(data): \n",
        "  new_data = []\n",
        "  for x in data:\n",
        "    if x != None:\n",
        "      new_data.append(x)\n",
        "  return new_data\n",
        "\n",
        "def print_res2():\n",
        "  z = avg(cleared_data(data))\n",
        "  print('Средняя температура: {:.2f}'.format(z))\n"
      ],
      "metadata": {
        "id": "xRdnjuJkOiFH"
      },
      "execution_count": null,
      "outputs": []
    },
    {
      "cell_type": "code",
      "source": [
        "n = int(input('Кол-во измерений: '))\n",
        "data = []\n",
        "\n",
        "input_data()\n",
        "print_res2()"
      ],
      "metadata": {
        "colab": {
          "base_uri": "https://localhost:8080/"
        },
        "id": "Y3l_3dgTOK46",
        "outputId": "aa937024-d0e5-41b2-82c4-958da458ca37"
      },
      "execution_count": null,
      "outputs": [
        {
          "output_type": "stream",
          "name": "stdout",
          "text": [
            "Кол-во измерений: 3\n",
            "Измерение1-е: 10\n",
            "Измерение2-е: -\n",
            "Измерение3-е: 20\n",
            "Средняя температура: 15.00\n"
          ]
        }
      ]
    },
    {
      "cell_type": "markdown",
      "source": [
        "#5.2.3.\n",
        "\n",
        "5.2.3. Выведите все счастливые номера билетов в диапазоне от a до b (положительные целые числа, a<b), если известно, что счастливым считается номер, у которого количество четных цифр равно количеству нечетных."
      ],
      "metadata": {
        "id": "CRHgsAkIeO9e"
      }
    },
    {
      "cell_type": "code",
      "source": [
        "# Задание task_05_02_03.\n",
        "def input_data3():\n",
        "  return (int(x) for x in input('Введите первый и последний номера билетов: ').split())\n",
        "\n",
        "def is_lucky(num):\n",
        "  even = 0\n",
        "  odd = 0\n",
        "  for i in map(int, str(num)):\n",
        "    if i % 2 == 0:\n",
        "      even += 1\n",
        "    else:\n",
        "      odd += 1\n",
        "  if even == odd:\n",
        "    lucky_num.append(num)\n",
        "  else:\n",
        "    pass\n",
        "\n",
        "def lucky_numbers(a,b):\n",
        "    num = a\n",
        "    while num in range(a,b + 1):\n",
        "      is_lucky(num)\n",
        "      if num in lucky_num:\n",
        "        lk_num.append(num)\n",
        "        num += 1\n",
        "      else:\n",
        "        num += 1\n",
        "    return lk_num\n",
        "\n",
        "def print_res3():\n",
        "  print(a.sort())"
      ],
      "metadata": {
        "id": "rA6SNPTTR5N9"
      },
      "execution_count": null,
      "outputs": []
    },
    {
      "cell_type": "code",
      "source": [
        "lucky_num = []\n",
        "number = []\n",
        "lk_num = []\n",
        "\n",
        "a,b = input_data3()\n",
        "lucky_numbers(a,b)"
      ],
      "metadata": {
        "id": "4cmTxrqLUMGI",
        "colab": {
          "base_uri": "https://localhost:8080/"
        },
        "outputId": "dc064978-a200-42df-cefa-b487a2722a27"
      },
      "execution_count": null,
      "outputs": [
        {
          "name": "stdout",
          "output_type": "stream",
          "text": [
            "Введите первый и последний номера билетов: 10 25\n"
          ]
        },
        {
          "output_type": "execute_result",
          "data": {
            "text/plain": [
              "[10, 12, 14, 16, 18, 21, 23, 25]"
            ]
          },
          "metadata": {},
          "execution_count": 8
        }
      ]
    },
    {
      "cell_type": "markdown",
      "source": [
        "#5.2.4.\n",
        "5.2.4. Дата характеризуется тремя натуральными числами: день, месяц и год. Учитывая, что год может быть високосным, реализуйте две функции, которые определяют вчерашнюю и завтрашнюю дату."
      ],
      "metadata": {
        "id": "JKrBsCnpfTZP"
      }
    },
    {
      "cell_type": "code",
      "source": [
        "# Задание task_05_02_04.\n",
        "\n",
        "def is_leap(year):\n",
        "  if year % 4 ==0 and year %100 != 0 or year % 400 == 0:\n",
        "    febrary_day=29\n",
        "  else:\n",
        "     febrary_day = 28\n",
        "  return febrary_day\n",
        "def days(month, year):\n",
        "  month_day_31=[1,3,5,7,8,10,12]\n",
        "  month_day_30=[4,6,9,11]\n",
        "  if month in month_day_31:\n",
        "    date=31\n",
        "  elif month in month_day_30:\n",
        "    date=30\n",
        "  else:\n",
        "    date=is_leap(year)\n",
        "  return date\n",
        "def previous_date(day, month, year):\n",
        "  if day == 1:\n",
        "    month -=1\n",
        "    if month == 0:\n",
        "      year -=1\n",
        "      month=12\n",
        "      day=days(month, year)\n",
        "    else:\n",
        "      year=year\n",
        "      month = month\n",
        "      day=days(month, year)\n",
        "  else:\n",
        "    day -=1\n",
        "    month=month\n",
        "    year=year\n",
        "  return day, month, year\n",
        "def next_date(day, month, year):\n",
        "  if day == days(month, year):\n",
        "    month += 1\n",
        "    if month == 13:\n",
        "      month=1\n",
        "      year+=1\n",
        "      day=1\n",
        "    else:\n",
        "      month=month\n",
        "      day=1\n",
        "      year=year\n",
        "  else:\n",
        "    day+=1\n",
        "    month = month\n",
        "    year=year\n",
        "  return day, month, year\n",
        "\n",
        "# --------------\n",
        "# Пример вывода:\n",
        "#\n",
        "# День, месяц, год через пробел: 1 3 2000\n",
        "# Предыдущий день: 29/02/2000\n",
        "# Следующий день: 02/03/2000\n"
      ],
      "metadata": {
        "id": "UyX_-AxPkHKH"
      },
      "execution_count": null,
      "outputs": []
    },
    {
      "cell_type": "code",
      "source": [
        "day, month, year = input('День, месяц, год через пробел: ').split()\n",
        "day = int(day)\n",
        "month = int(month)\n",
        "year=int(year)\n",
        "print('Предыдущий день: ', previous_date(day, month, year))\n",
        "print('Следующий день: ', next_date(day, month, year))"
      ],
      "metadata": {
        "colab": {
          "base_uri": "https://localhost:8080/"
        },
        "id": "jXeFXclAhcp_",
        "outputId": "78c5fbd4-6de6-4cb7-982a-d1fe9b6d14aa"
      },
      "execution_count": null,
      "outputs": [
        {
          "output_type": "stream",
          "name": "stdout",
          "text": [
            "День, месяц, год через пробел: 1 3 2000\n",
            "Предыдущий день:  (29, 2, 2000)\n",
            "Следующий день:  (2, 3, 2000)\n"
          ]
        }
      ]
    },
    {
      "cell_type": "markdown",
      "source": [
        "#5.2.6.\n",
        "5.2.6.  Дан список из чисел.\n",
        "Определите их НОК (наименьшее общее кратное) и НОД (наибольший общий делитель)."
      ],
      "metadata": {
        "id": "mScfj9JkrPde"
      }
    },
    {
      "cell_type": "code",
      "source": [
        "def gcd_fun(a, b): \n",
        "    if(b == 0): \n",
        "        return a  \n",
        "    else: \n",
        "        return gcd_fun(b, a % b) "
      ],
      "metadata": {
        "id": "eWxMoMY51Rwl"
      },
      "execution_count": null,
      "outputs": []
    },
    {
      "cell_type": "code",
      "source": [
        "a =int(input(\"введите первое число: \"))\n",
        "b =int(input(\"введите второе число: \")) \n",
        "num = gcd_fun(a, b) \n",
        "print(\"НОД 2-х чисел: \") \n",
        "print(num) "
      ],
      "metadata": {
        "colab": {
          "base_uri": "https://localhost:8080/"
        },
        "id": "V6hTxfMdXmtT",
        "outputId": "60ff82c8-72ad-4ff6-a612-6c7eb4f6f0c2"
      },
      "execution_count": null,
      "outputs": [
        {
          "output_type": "stream",
          "name": "stdout",
          "text": [
            "введите первое число: 18\n",
            "введите второе число: 48\n",
            "НОД 2-х чисел: \n",
            "6\n"
          ]
        }
      ]
    },
    {
      "cell_type": "code",
      "source": [
        "def gcd(a, b):\n",
        "  if a > b:\n",
        "    c = b\n",
        "  else:\n",
        "    c = a\n",
        "  for i in range(1,c+1):\n",
        "    if (a % i == 0) and (b % i == 0 ):\n",
        "      gcd = i\n",
        "  return gcd\n",
        "\n",
        "\n",
        "def lcm(a, b):\n",
        "  if a > b:\n",
        "    c = a\n",
        "  else:\n",
        "    c = b\n",
        "  while(True):\n",
        "    if (c % a == 0) and (c % b == 0):\n",
        "      return c\n",
        "    c += 1\n",
        "\n",
        "def gcd_nums(nums):\n",
        "  for x in range(1, len(nums) - 1):\n",
        "    nums[x] = gcd(nums[x-1], nums[x])\n",
        "  return nums[x]\n",
        "\n",
        "def lcm_nums(nums):\n",
        "  for x in range(1, len(nums)):\n",
        "    nums[x] = lcm(nums[x-1], nums[x])\n",
        "  return nums[x]       "
      ],
      "metadata": {
        "id": "OIrxOSWy1WDl"
      },
      "execution_count": 13,
      "outputs": []
    },
    {
      "cell_type": "code",
      "source": [
        "nums = input('Введите чилса через пробел: ').split()\n",
        "nums = list(map(int, nums))\n",
        "nums1 = nums.copy()\n",
        "gcd_d = gcd_nums(nums)\n",
        "lcm_d = lcm_nums(nums1)\n",
        "\n",
        "print('НОД = ', gcd_d)\n",
        "print('НОК = ', lcm_d)"
      ],
      "metadata": {
        "colab": {
          "base_uri": "https://localhost:8080/"
        },
        "id": "N6H3Azq1Eu6t",
        "outputId": "5b764abd-1d0e-4583-9a08-6f394e580b24"
      },
      "execution_count": 14,
      "outputs": [
        {
          "output_type": "stream",
          "name": "stdout",
          "text": [
            "Введите чилса через пробел: 18 48 24\n",
            "НОД =  6\n",
            "НОК =  144\n"
          ]
        }
      ]
    },
    {
      "cell_type": "code",
      "source": [
        "def n_lcm(a, b):\n",
        "  if a > b: \n",
        "    top = a\n",
        "  else: top = b\n",
        "    \n",
        "  while(True): \n",
        "    if((top % a == 0) and (top % b == 0)): \n",
        "        lcm = top\n",
        "        break \n",
        "    top += 1 \n",
        "  return lcm"
      ],
      "metadata": {
        "id": "by_QQhLXEuOf"
      },
      "execution_count": null,
      "outputs": []
    },
    {
      "cell_type": "code",
      "source": [
        "num1 = int(input(\"введите 1-е число: \")) \n",
        "num2 = int(input(\"введите 2-е число: \")) \n",
        "print(\"НОК 2-х чисел: \", n_lcm(num1, num2))\n"
      ],
      "metadata": {
        "colab": {
          "base_uri": "https://localhost:8080/"
        },
        "id": "Kw6vu2bYXf2o",
        "outputId": "e676fd63-43bd-4a9f-837e-c3759cfe6f69"
      },
      "execution_count": null,
      "outputs": [
        {
          "output_type": "stream",
          "name": "stdout",
          "text": [
            "введите 1-е число: 18\n",
            "введите 2-е число: 48\n",
            "НОК 2-х чисел:  144\n"
          ]
        }
      ]
    },
    {
      "cell_type": "code",
      "source": [
        "def gcd(first, second):\n",
        "    for x in nums1:\n",
        "      if x%2==0:\n",
        "        if x%3==0:\n",
        "          if x%4==0:\n",
        "            if x%5==0\n",
        "    while nums1[x] != 0 and nums1[x+1] != 0:\n",
        "      if nums1[x]>nums1[x+1]:\n",
        "        nums1[x] = nums1[x] % nums1[x]\n",
        "      else:\n",
        "        nums1[x+1] = nums1[x+1] % nums1[x]\n",
        "      sum1= nums1[x]+nums1[x+1]\n",
        "      return sum1"
      ],
      "metadata": {
        "colab": {
          "base_uri": "https://localhost:8080/",
          "height": 131
        },
        "id": "AoRfM-3arPKF",
        "outputId": "0150ed38-699f-42d0-f73a-bdc49350f2e2"
      },
      "execution_count": null,
      "outputs": [
        {
          "output_type": "error",
          "ename": "SyntaxError",
          "evalue": "ignored",
          "traceback": [
            "\u001b[0;36m  File \u001b[0;32m\"<ipython-input-23-8e79ef15a687>\"\u001b[0;36m, line \u001b[0;32m6\u001b[0m\n\u001b[0;31m    if x%5==0\u001b[0m\n\u001b[0m             ^\u001b[0m\n\u001b[0;31mSyntaxError\u001b[0m\u001b[0;31m:\u001b[0m invalid syntax\n"
          ]
        }
      ]
    },
    {
      "cell_type": "markdown",
      "source": [
        "#5.2.7.\n",
        "5.2.7. Даны n предложений. Определите, сколько из них содержат хотя бы одну цифру."
      ],
      "metadata": {
        "id": "HzZtRcfL_qrn"
      }
    },
    {
      "cell_type": "code",
      "source": [
        "def has_digit(sentence):\n",
        "    sentences = 0\n",
        "    sentence_l = list(map(str, sentence))\n",
        "    digit = '1234567890'\n",
        "    digits = list(map(str, digit))\n",
        "    for y in digits:\n",
        "        if y in sentence_l:\n",
        "            sentences += 1\n",
        "    return sentences\n",
        "\n",
        "\n",
        "def sentences_with_digit_count(sentences):\n",
        "    print(f'Предложений с цифрой = {sentences}')"
      ],
      "metadata": {
        "id": "zHTmuweyxHz3"
      },
      "execution_count": 15,
      "outputs": []
    },
    {
      "cell_type": "code",
      "source": [
        "n = int(input('Введите количество предложений: '))\n",
        "sentences = 0\n",
        "amount = 0\n",
        "\n",
        "for x in range(n):\n",
        "  sentence1 = input(f'Введите предложение №{x+1}: ')\n",
        "  f = has_digit(sentence1)\n",
        "  if f == 1:\n",
        "    amount += 1\n",
        "\n",
        "sentences_with_digit_count(amount)\n"
      ],
      "metadata": {
        "colab": {
          "base_uri": "https://localhost:8080/"
        },
        "id": "0ODBrCKaxip9",
        "outputId": "7a1a6d20-a21f-4ab5-bb77-702633994f89"
      },
      "execution_count": 18,
      "outputs": [
        {
          "output_type": "stream",
          "name": "stdout",
          "text": [
            "Введите количество предложений: 2\n",
            "Введите предложение №1: ьавтдлавтлалвдалдалж0\n",
            "Введите предложение №2: привет0\n",
            "Предложений с цифрой = 2\n"
          ]
        }
      ]
    },
    {
      "cell_type": "markdown",
      "source": [
        "#5.2.8.\n",
        "5.2.8. Дана строка s и символ k. Реализуйте функцию, рисующую рамку из символа k вокруг данной строки, например:\n",
        "\n",
        "***************\n",
        "*Текст в рамке*\n",
        "***************"
      ],
      "metadata": {
        "id": "2E0grnB5iw2c"
      }
    },
    {
      "cell_type": "code",
      "source": [
        "# Задание task_05_02_08.\n",
        "def print_with_borders(s, k):\n",
        "    s_len=len(s)\n",
        "    print(k*(s_len + 2))\n",
        "    print(k+s+k)\n",
        "    print(k*(s_len + 2))\n"
      ],
      "metadata": {
        "id": "985bdWKsiwow"
      },
      "execution_count": null,
      "outputs": []
    },
    {
      "cell_type": "code",
      "source": [
        "s = input(\"Введите строку: \")\n",
        "k = input('Введите символ: ')\n",
        "\n",
        "print_with_borders(s, k)"
      ],
      "metadata": {
        "colab": {
          "base_uri": "https://localhost:8080/"
        },
        "id": "c8CPIjrtjYlY",
        "outputId": "aeb6d70e-060f-48c9-d017-d162c739e5ef"
      },
      "execution_count": null,
      "outputs": [
        {
          "output_type": "stream",
          "name": "stdout",
          "text": [
            "Введите строку: просто текст\n",
            "Введите символ: +\n",
            "++++++++++++++\n",
            "+просто текст+\n",
            "++++++++++++++\n"
          ]
        }
      ]
    },
    {
      "cell_type": "code",
      "source": [
        "def print_with_border(a, b):\n",
        "    s = list(map(str, a))\n",
        "    s_len = len(s)\n",
        "    print(b * (s_len + 2))\n",
        "    print(b + a + b)\n",
        "    print(b* (s_len + 2))\n",
        "\n",
        "s = input('Введите строку: ')\n",
        "k = input('Введите символ: ')\n",
        "\n",
        "print_with_border(s, k)"
      ],
      "metadata": {
        "colab": {
          "base_uri": "https://localhost:8080/"
        },
        "id": "xpMfdQSKVL4f",
        "outputId": "8c6233fb-759b-405b-f92c-bba6da9234fd"
      },
      "execution_count": null,
      "outputs": [
        {
          "output_type": "stream",
          "name": "stdout",
          "text": [
            "Введите строку: hello function\n",
            "Введите символ: +\n",
            "++++++++++++++++\n",
            "+hello function+\n",
            "++++++++++++++++\n"
          ]
        }
      ]
    },
    {
      "cell_type": "markdown",
      "source": [
        "#5.2.10.\n",
        "5.2.10. Для введенного предложения выведите статистику символ=количество. Регистр букв не учитывается."
      ],
      "metadata": {
        "id": "cz_CvqQn3XTe"
      }
    },
    {
      "cell_type": "code",
      "source": [
        "# Задание task_05_02_10.\n",
        "def sentence_stats(sentence):\n",
        "    x = {}\n",
        "    for i in sentence:\n",
        "        if i in x:\n",
        "            i = i.lower()\n",
        "            x[i] += 1\n",
        "        else:\n",
        "            x[i]=1\n",
        "    return x\n"
      ],
      "metadata": {
        "id": "_C49ZkMT3WvO"
      },
      "execution_count": 6,
      "outputs": []
    },
    {
      "cell_type": "code",
      "source": [
        "s = input(\"Введите предложение: \")\n",
        "print(sentence_stats(s))"
      ],
      "metadata": {
        "colab": {
          "base_uri": "https://localhost:8080/",
          "height": 329
        },
        "id": "1Bytr9SsMgiO",
        "outputId": "b44631d0-a387-4e82-d059-1d05e18e9ff3"
      },
      "execution_count": 7,
      "outputs": [
        {
          "output_type": "error",
          "ename": "KeyboardInterrupt",
          "evalue": "ignored",
          "traceback": [
            "\u001b[0;31m---------------------------------------------------------------------------\u001b[0m",
            "\u001b[0;31mKeyboardInterrupt\u001b[0m                         Traceback (most recent call last)",
            "\u001b[0;32m<ipython-input-7-69b7cacb8df8>\u001b[0m in \u001b[0;36m<module>\u001b[0;34m\u001b[0m\n\u001b[0;32m----> 1\u001b[0;31m \u001b[0ms\u001b[0m \u001b[0;34m=\u001b[0m \u001b[0minput\u001b[0m\u001b[0;34m(\u001b[0m\u001b[0;34m\"Введите предложение: \"\u001b[0m\u001b[0;34m)\u001b[0m\u001b[0;34m\u001b[0m\u001b[0;34m\u001b[0m\u001b[0m\n\u001b[0m\u001b[1;32m      2\u001b[0m \u001b[0mprint\u001b[0m\u001b[0;34m(\u001b[0m\u001b[0msentence_stats\u001b[0m\u001b[0;34m(\u001b[0m\u001b[0ms\u001b[0m\u001b[0;34m)\u001b[0m\u001b[0;34m)\u001b[0m\u001b[0;34m\u001b[0m\u001b[0;34m\u001b[0m\u001b[0m\n",
            "\u001b[0;32m/usr/local/lib/python3.7/dist-packages/ipykernel/kernelbase.py\u001b[0m in \u001b[0;36mraw_input\u001b[0;34m(self, prompt)\u001b[0m\n\u001b[1;32m    861\u001b[0m             \u001b[0mself\u001b[0m\u001b[0;34m.\u001b[0m\u001b[0m_parent_ident\u001b[0m\u001b[0;34m,\u001b[0m\u001b[0;34m\u001b[0m\u001b[0;34m\u001b[0m\u001b[0m\n\u001b[1;32m    862\u001b[0m             \u001b[0mself\u001b[0m\u001b[0;34m.\u001b[0m\u001b[0m_parent_header\u001b[0m\u001b[0;34m,\u001b[0m\u001b[0;34m\u001b[0m\u001b[0;34m\u001b[0m\u001b[0m\n\u001b[0;32m--> 863\u001b[0;31m             \u001b[0mpassword\u001b[0m\u001b[0;34m=\u001b[0m\u001b[0;32mFalse\u001b[0m\u001b[0;34m,\u001b[0m\u001b[0;34m\u001b[0m\u001b[0;34m\u001b[0m\u001b[0m\n\u001b[0m\u001b[1;32m    864\u001b[0m         )\n\u001b[1;32m    865\u001b[0m \u001b[0;34m\u001b[0m\u001b[0m\n",
            "\u001b[0;32m/usr/local/lib/python3.7/dist-packages/ipykernel/kernelbase.py\u001b[0m in \u001b[0;36m_input_request\u001b[0;34m(self, prompt, ident, parent, password)\u001b[0m\n\u001b[1;32m    902\u001b[0m             \u001b[0;32mexcept\u001b[0m \u001b[0mKeyboardInterrupt\u001b[0m\u001b[0;34m:\u001b[0m\u001b[0;34m\u001b[0m\u001b[0;34m\u001b[0m\u001b[0m\n\u001b[1;32m    903\u001b[0m                 \u001b[0;31m# re-raise KeyboardInterrupt, to truncate traceback\u001b[0m\u001b[0;34m\u001b[0m\u001b[0;34m\u001b[0m\u001b[0;34m\u001b[0m\u001b[0m\n\u001b[0;32m--> 904\u001b[0;31m                 \u001b[0;32mraise\u001b[0m \u001b[0mKeyboardInterrupt\u001b[0m\u001b[0;34m(\u001b[0m\u001b[0;34m\"Interrupted by user\"\u001b[0m\u001b[0;34m)\u001b[0m \u001b[0;32mfrom\u001b[0m \u001b[0;32mNone\u001b[0m\u001b[0;34m\u001b[0m\u001b[0;34m\u001b[0m\u001b[0m\n\u001b[0m\u001b[1;32m    905\u001b[0m             \u001b[0;32mexcept\u001b[0m \u001b[0mException\u001b[0m \u001b[0;32mas\u001b[0m \u001b[0me\u001b[0m\u001b[0;34m:\u001b[0m\u001b[0;34m\u001b[0m\u001b[0;34m\u001b[0m\u001b[0m\n\u001b[1;32m    906\u001b[0m                 \u001b[0mself\u001b[0m\u001b[0;34m.\u001b[0m\u001b[0mlog\u001b[0m\u001b[0;34m.\u001b[0m\u001b[0mwarning\u001b[0m\u001b[0;34m(\u001b[0m\u001b[0;34m\"Invalid Message:\"\u001b[0m\u001b[0;34m,\u001b[0m \u001b[0mexc_info\u001b[0m\u001b[0;34m=\u001b[0m\u001b[0;32mTrue\u001b[0m\u001b[0;34m)\u001b[0m\u001b[0;34m\u001b[0m\u001b[0;34m\u001b[0m\u001b[0m\n",
            "\u001b[0;31mKeyboardInterrupt\u001b[0m: Interrupted by user"
          ]
        }
      ]
    },
    {
      "cell_type": "markdown",
      "source": [
        "#5.2.11.\n",
        "5.2.11. Используя шифр Цезаря (достаточно только букв русского алфавита, знаки препинания не изменяются), зашифруйте, а затем расшифруйте введенную строку."
      ],
      "metadata": {
        "id": "VZXBitFIj0GW"
      }
    },
    {
      "cell_type": "code",
      "source": [
        "# Задание task_05_02_11.\n",
        "\n",
        "def input_data():\n",
        "  smeshenie = int(input('шаг шифровки: '))\n",
        "  message = input('введите сообщение: ').upper()\n",
        "  return Cazer(message, smeshenie)\n",
        "\n",
        "def Cazer(message, smeshenie):\n",
        "  alfavit = \"АБВГДЕЁЖЗИЙКЛМНОПРСТУФХЦЧШЩЪЫЬЭЮЯ\"\n",
        "  itog = ''\n",
        "  for i in message:\n",
        "    mesto = alfavit.find(i)\n",
        "    new_mesto = mesto + smeshenie\n",
        "    if i in alfavit:\n",
        "        itog += alfavit[new_mesto]\n",
        "    else:\n",
        "        itog += i\n",
        "  return itog\n",
        "\n",
        "def print_res(res):\n",
        "  if res:\n",
        "    print(res)\n",
        "  else:\n",
        "    print('что-то пошло не так')\n"
      ],
      "metadata": {
        "id": "q_tVb732j9-F"
      },
      "execution_count": null,
      "outputs": []
    },
    {
      "cell_type": "code",
      "source": [
        "res = input_data()\n",
        "print_res(res)"
      ],
      "metadata": {
        "colab": {
          "base_uri": "https://localhost:8080/"
        },
        "id": "_Cq9Ue8qDQb8",
        "outputId": "a9629ce3-b8cb-43b5-8a41-3020ef05b7e8"
      },
      "execution_count": null,
      "outputs": [
        {
          "output_type": "stream",
          "name": "stdout",
          "text": [
            "шаг шифровки: 3\n",
            "введите сообщение: АБВ\n",
            "ГДЕ\n"
          ]
        }
      ]
    },
    {
      "cell_type": "markdown",
      "source": [
        "#5.2.14.\n",
        "5.2.14. Напишите функцию, которая принимает неограниченное количество числовых аргументов и возвращает кортеж из двух списков:\n",
        "\n",
        "отрицательных значений (отсортирован по убыванию);\n",
        "\n",
        "неотрицательных значений (отсортирован по возрастанию)."
      ],
      "metadata": {
        "id": "TtDW2dKVTTQz"
      }
    },
    {
      "cell_type": "code",
      "source": [
        "# Задание task_05_02_14.\n",
        "def split_numbers(*args):\n",
        "  neg=[]\n",
        "  pos=[]\n",
        "  for i in args:\n",
        "    if i >= 0:\n",
        "      pos.append(i)\n",
        "    elif i < 0:\n",
        "      neg.append(i)\n",
        "  return neg, pos"
      ],
      "metadata": {
        "id": "mD_nJbGzTTA2"
      },
      "execution_count": null,
      "outputs": []
    },
    {
      "cell_type": "code",
      "source": [
        "print(split_numbers(1, 4, -5, 0, -33))"
      ],
      "metadata": {
        "colab": {
          "base_uri": "https://localhost:8080/"
        },
        "id": "eLUcR1DmUAbK",
        "outputId": "1f46d12e-4709-4092-bd89-4a77b5e2fdbf"
      },
      "execution_count": null,
      "outputs": [
        {
          "output_type": "stream",
          "name": "stdout",
          "text": [
            "([-5, -33], [1, 4, 0])\n"
          ]
        }
      ]
    },
    {
      "cell_type": "code",
      "source": [
        "def split_numbers(*args):\n",
        "  pos1=[]\n",
        "  neg=[]\n",
        "  for i in args:\n",
        "    if i > -1:\n",
        "      pos1.append(i)\n",
        "      pos=sorted(pos1)\n",
        "    elif i < 0:\n",
        "      neg.append(i)\n",
        "  return neg,pos\n",
        "print(split_numbers(1, 4, -5, 0, -33))"
      ],
      "metadata": {
        "colab": {
          "base_uri": "https://localhost:8080/"
        },
        "id": "rFm72gqGbqYK",
        "outputId": "b2ff7dfd-4589-4d94-8f42-0cbd31cf53cb"
      },
      "execution_count": null,
      "outputs": [
        {
          "output_type": "stream",
          "name": "stdout",
          "text": [
            "([-5, -33], [0, 1, 4])\n"
          ]
        }
      ]
    },
    {
      "cell_type": "markdown",
      "source": [
        "#5.2.16.\n",
        "5.2.16. Составьте две функции для возведения числа в степень: один из вариантов реализуйте в рекурсивном стиле."
      ],
      "metadata": {
        "id": "Rr4570UQJpL4"
      }
    },
    {
      "cell_type": "code",
      "source": [
        "# Задание task_05_02_16.\n",
        "def NumPowRecursion(a, n):\n",
        "    return 1 if n==0 else a * NumPowRecursion(a, n - 1)\n"
      ],
      "metadata": {
        "id": "3K5nIFF8JpbO"
      },
      "execution_count": null,
      "outputs": []
    },
    {
      "cell_type": "code",
      "source": [
        "a = 2\n",
        "n = 700\n",
        "print(NumPowRecursion(a, n))"
      ],
      "metadata": {
        "colab": {
          "base_uri": "https://localhost:8080/"
        },
        "id": "XVRPJkrEKbEe",
        "outputId": "cdc1253d-437a-43e6-da77-3edf5771214d"
      },
      "execution_count": null,
      "outputs": [
        {
          "output_type": "stream",
          "name": "stdout",
          "text": [
            "5260135901548373507240989882880128665550339802823173859498280903068732154297080822113666536277588451226982968856178217713019432250183803863127814770651880849955223671128444598191663757884322717271293251735781376\n"
          ]
        }
      ]
    },
    {
      "cell_type": "code",
      "source": [
        "def NumPowRecursion(a, n):\n",
        "    res = a\n",
        "    while n - 1>0:\n",
        "      res = res*a\n",
        "      n-=1\n",
        "    return res"
      ],
      "metadata": {
        "id": "t4iAAX8RKJOX"
      },
      "execution_count": null,
      "outputs": []
    },
    {
      "cell_type": "code",
      "source": [
        "a = 2\n",
        "n = 700\n",
        "print(NumPowRecursion(a, n))"
      ],
      "metadata": {
        "colab": {
          "base_uri": "https://localhost:8080/"
        },
        "id": "iJU9ZadUKoUn",
        "outputId": "9a67f44f-5855-47f7-96bb-bd2f201011f1"
      },
      "execution_count": null,
      "outputs": [
        {
          "output_type": "stream",
          "name": "stdout",
          "text": [
            "5260135901548373507240989882880128665550339802823173859498280903068732154297080822113666536277588451226982968856178217713019432250183803863127814770651880849955223671128444598191663757884322717271293251735781376\n"
          ]
        }
      ]
    }
  ]
}