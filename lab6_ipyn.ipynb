{
  "nbformat": 4,
  "nbformat_minor": 0,
  "metadata": {
    "colab": {
      "provenance": [],
      "authorship_tag": "ABX9TyNvUz0b/pJFOQVFc1uh/5AN",
      "include_colab_link": true
    },
    "kernelspec": {
      "name": "python3",
      "display_name": "Python 3"
    },
    "language_info": {
      "name": "python"
    }
  },
  "cells": [
    {
      "cell_type": "markdown",
      "metadata": {
        "id": "view-in-github",
        "colab_type": "text"
      },
      "source": [
        "<a href=\"https://colab.research.google.com/github/SvetlanaSel/osnovy_programming/blob/main/lab6_ipyn.ipynb\" target=\"_parent\"><img src=\"https://colab.research.google.com/assets/colab-badge.svg\" alt=\"Open In Colab\"/></a>"
      ]
    },
    {
      "cell_type": "code",
      "execution_count": null,
      "metadata": {
        "id": "1m4qigUJKdBb"
      },
      "outputs": [],
      "source": [
        "# Задание task_06_02_01.\n",
        "def foo(a):\n",
        "    \"\"\"\n",
        "\n",
        "    Сложность: O(N^2).\n",
        "    \"\"\"\n",
        "    for i in range(len(a), 0, -1): #O(N)+N=O(N)\n",
        "        for j in range(1, i):   #O(N)\n",
        "            if a[j-1] > a[j]:   #O(1)+O(len(a))=O(len(a))\n",
        "                a[j-1], a[j] = a[j], a[j-1]  #O(1)+O(1)=2*O(1)=O(1)\n",
        "    return a  #O(1)\n",
        "#O(N)+O(N)+O(1)+O(1)=O(N)*O(N)*2*O(1)=O(N**2)\n",
        "a = [1, 2, 3, 4, 2, 1, 3, 4, 3, 5, -2, -2, 2, -2, 65, 2, 2]\n",
        "foo(a)\n"
      ]
    },
    {
      "cell_type": "code",
      "source": [
        "# Задание task_06_02_02.\n",
        "\n",
        "def foo(i):\n",
        "    \"\"\"\n",
        "\n",
        "    Параметры:\n",
        "        - i (int): число.\n",
        "\n",
        "    Сложность: O(N).\n",
        "    \"\"\"\n",
        "    digits = \"0123456789\"\n",
        "    if i == 0:  #O(1)\n",
        "        return \"0\"  #O(1)\n",
        "    result = \"\" #O(1)\n",
        "    while i > 0:  #O(N)\n",
        "        result = digits[i%10] + result #O(1)+O(1)=2*O(1)=O(1)\n",
        "        i = i // 10 #O(1)\n",
        "    return result #O(1)\n",
        "  #3*O(1)+O(N)+3*O(1)=O(1)*O(N)=O(N)\n"
      ],
      "metadata": {
        "id": "0AfQqe_iMPh-"
      },
      "execution_count": null,
      "outputs": []
    },
    {
      "cell_type": "code",
      "source": [
        "# Задание task_06_02_03.\n",
        "\n",
        "ef foo(s):\n",
        "    \"\"\"!!!\n",
        "\n",
        "    Параметры:\n",
        "        - s (str): строка.\n",
        "\n",
        "    Сложность: O(N^2).\n",
        "    \"\"\"\n",
        "  val = 0 #O(1)\n",
        "  for c in s: #O(N)\n",
        "    if c.isdigit(): #O(N)+O(N)/ O(len(c))\n",
        "     val += int(c) #O(1)\n",
        "    return val #O(1)\n",
        "    #O(1)+O(N)+O(N)+O(1)+O(1)=O(1)+O(N)*O(N)=O(N**2)"
      ],
      "metadata": {
        "id": "Pa1wWFXeSnUd"
      },
      "execution_count": null,
      "outputs": []
    },
    {
      "cell_type": "code",
      "source": [
        "# Задание task_06_02_04.\n",
        "\n",
        "\n",
        "def foo(n):\n",
        "    \"\"\"\n",
        "\n",
        "    Параметры:\n",
        "        - n (int): число.\n",
        "\n",
        "    Сложность: O(N^2).\n",
        "    \"\"\"\n",
        "    res = [] #O(1)\n",
        "    for i in range(1, n + 1): #O(N)\n",
        "        divisors = 0 #O(1)\n",
        "        j = 2 #O(1)\n",
        "        while j < i and divisors == 0: #O(N)\n",
        "            if i % j == 0: #O(1)\n",
        "                divisors += 1 #O(1)\n",
        "            j += 1 #O(1)\n",
        "\n",
        "        if divisors == 0: #O(1)\n",
        "            res.append(i) #O(1)\n",
        "\n",
        "    return res #O(1)\n",
        "#O(1)+O(N)*(2*O(1)+O(N)*2*O(1)*O(1))=O(N**2)"
      ],
      "metadata": {
        "id": "3kIE4hcSNBJ1"
      },
      "execution_count": null,
      "outputs": []
    },
    {
      "cell_type": "code",
      "source": [
        "# Задание task_06_02_05.\n",
        "\n",
        "def foo(nums):\n",
        "    \"\"\"!!!\n",
        "\n",
        "    Параметры:\n",
        "        - nums (list): список.\n",
        "\n",
        "    Сложность: O(N).\n",
        "    \"\"\"\n",
        "    for x in nums: #O(N)\n",
        "        if x % 2 == 0: #O(1)\n",
        "            return True #O(1)\n",
        "    else: #O(1)\n",
        "        return False #O(1)\n",
        "#O(1)*3+O(N)=O(N)*O(1)=O(N)"
      ],
      "metadata": {
        "id": "UAN2xr6vNEqU"
      },
      "execution_count": null,
      "outputs": []
    },
    {
      "cell_type": "code",
      "source": [
        "# Задание task_06_02_06.\n",
        "def foo(nums):\n",
        "    \"\"\"\n",
        "\n",
        "    Параметры:\n",
        "        - nums (list): список.\n",
        "\n",
        "    Сложность: O(1).\n",
        "    \"\"\"\n",
        "    return (nums[0] + nums[-1] ** 2) #O(1)+O(1)=2*O(1)\n",
        "#2*O(1)=O(1)"
      ],
      "metadata": {
        "id": "2VKu7Lvdp0BJ"
      },
      "execution_count": null,
      "outputs": []
    },
    {
      "cell_type": "code",
      "source": [
        "# Задание task_06_02_07.\n",
        "\n",
        "def foo(low, high):\n",
        "    \"\"\"!!!\n",
        "\n",
        "    Параметры:\n",
        "        - low (int): нижняя граница;\n",
        "        - high (int): верхняя граница.\n",
        "\n",
        "    Сложность: O(N).\n",
        "    \"\"\"\n",
        "    guessing = True #O(1)\n",
        "    while guessing: #O(N)\n",
        "        guess = (low + high) // 2 # O(1)+O(1)/O(1)\n",
        "        print(\"Загаданное число {0}?\".format(guess))\n",
        "        pointer = input(\n",
        "            \"Введите '+', если Ваше число меньше.\\n\"\n",
        "            \"Введите '-' если Ваше число больше.\\n\"\n",
        "            \"Введите '=', если я угадал.\\n\").lower()\n",
        "        if pointer == \"+\": #O(1)\n",
        "            high = guess #O(1)\n",
        "        elif pointer == \"-\": #O(1)\n",
        "            low = guess #O(1)\n",
        "        elif pointer == \"=\": #O(1)\n",
        "            guessing = False #O(1)\n",
        "        else: #O(1)\n",
        "            print(\"Введите '+', '-' или '='.\")\n",
        "\n",
        "    return guess #O(1)\n",
        "\n",
        "#O(1)+O(N)*(O(1)+O(1)+O(1)+3*O(1)*O(1))=O(1)+O(N)*6*O(1)=O(N)\n",
        "\n",
        "# low, high = 0, 100\n",
        "# print(\"Пожалуйста, загадайте число от {0} до {1}!\".format(low, high))\n",
        "# guess = foo(low, high)\n",
        "# print(\"Игра окончена, Вы загадали число: {0}.\".format(guess))\n"
      ],
      "metadata": {
        "id": "C4xyFbdCOnPD"
      },
      "execution_count": null,
      "outputs": []
    }
  ]
}