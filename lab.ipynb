{
  "nbformat": 4,
  "nbformat_minor": 0,
  "metadata": {
    "colab": {
      "provenance": [],
      "authorship_tag": "ABX9TyOPo7CGlGQI2Zg7N4Z+iuhv",
      "include_colab_link": true
    },
    "kernelspec": {
      "name": "python3",
      "display_name": "Python 3"
    },
    "language_info": {
      "name": "python"
    }
  },
  "cells": [
    {
      "cell_type": "markdown",
      "metadata": {
        "id": "view-in-github",
        "colab_type": "text"
      },
      "source": [
        "<a href=\"https://colab.research.google.com/github/SvetlanaSel/osnovy_programming/blob/main/lab.ipynb\" target=\"_parent\"><img src=\"https://colab.research.google.com/assets/colab-badge.svg\" alt=\"Open In Colab\"/></a>"
      ]
    },
    {
      "cell_type": "code",
      "execution_count": null,
      "metadata": {
        "id": "RYxz-6I5rd1S"
      },
      "outputs": [],
      "source": [
        "# Программирование на языке высокого уровня (Python).\n",
        "# https://www.yuripetrov.ru/edu/python\n",
        "# Задание task_03_02_01.\n",
        "#\n",
        "# Выполнил: Селиверстова С. Н.\n",
        "# Группа: АДЭУ\n",
        "# E-mail: svseliverstova2804@mail.ru\n",
        "\n",
        "\n",
        "a = int(input(\"a=\"))\n",
        "b =# Удалите комментарий и допишите код\n",
        "\n",
        "print(a + b)\n",
        "print(# Удалите комментарий и допишите код)\n",
        "# Удалите комментарий и допишите код для прочих операций\n",
        "\n",
        "print(a < b)\n",
        "print(# Удалите комментарий и допишите код)\n",
        "# Удалите комментарий и допишите код для прочих операций\n",
        "\n",
        "\n",
        "# --------------\n",
        "# Пример вывода:\n",
        "#\n",
        "# a=2\n",
        "# b=3\n",
        "# 5\n",
        "# -1\n",
        "# 6\n",
        "# 0.67\n",
        "# 0\n",
        "# 2\n",
        "# 8\n",
        "# True\n",
        "# True\n",
        "# False\n",
        "# False\n",
        "# True\n",
        "# False\n",
        "\n"
      ]
    },
    {
      "cell_type": "code",
      "source": [
        "#3.2.1\n",
        "a = int(input(\"a=\"))\n",
        "b = int(input(\"b=\"))\n",
        "print(a + b)\n",
        "print(a - b)\n",
        "print(a * b)\n",
        "print(round(a / b,2))\n",
        "print(a + b)\n",
        "print(a // b)\n",
        "print(a % b)\n",
        "print(a ** b)\n",
        "print(a < b)\n",
        "print(a <= b)\n",
        "print(a > b)\n",
        "print(a >= b)\n",
        "print(a != b)\n",
        "print(a == b)\n"
      ],
      "metadata": {
        "colab": {
          "base_uri": "https://localhost:8080/"
        },
        "id": "r8YBffKC7yhm",
        "outputId": "6ceed39a-332b-478a-8caf-2b36df274c71"
      },
      "execution_count": 8,
      "outputs": [
        {
          "output_type": "stream",
          "name": "stdout",
          "text": [
            "a=2\n",
            "b=3\n",
            "5\n",
            "-1\n",
            "6\n",
            "0.67\n",
            "5\n",
            "0\n",
            "2\n",
            "8\n",
            "True\n",
            "True\n",
            "False\n",
            "False\n",
            "True\n",
            "False\n"
          ]
        }
      ]
    },
    {
      "cell_type": "markdown",
      "source": [
        "3.2.1 Числа\n",
        "#3.2.1\n",
        "Составьте программу, которая запрашивает у пользователя 2 целых числа и выполняет операции:\n",
        "\n",
        "арифметические: +, -, * , / , // , %, **;\n",
        "\n",
        "сравнение: <, <=, >, >=, !=, ==,\n",
        "\n",
        "3.2.2\n",
        "#3.2.2\n",
        "Вычислите значение следующего выражения (аргументы - целые числа и вводятся с клавиатуры):\n",
        "![322 формула.jpeg](data:image/jpeg;base64,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)\n",
        "\n",
        "Округлите результат до 3-х знаков после запятой, используя функцию round().\n",
        "3.2.3\n",
        "#3.2.3\n",
        "\n",
        "Дана электрическая цепь, состоящая из 2-х последовательно соединенных проводников (сопротивление каждого известно). Найти общее сопротивление цепи (округление результата необходимо выполнить до 1-го знака после запятой).\n",
        "3.2.6\n",
        "#3.2.6\n",
        "Дано уравнение ax + b = 0 и отрезок [m;n]. Ответьте на вопрос, попадает ли решение уравнения в указанный отрезок.\n",
        "3.3.7\n",
        "#3.2.7\n",
        "Составьте программу, которая запрашивает название футбольной команды и повторяет его на экране со словами\n",
        "\n",
        "... - чемпион!\n",
        "После этого выполните:\n",
        "\n",
        "используя операцию дублирования, нарисуйте черту (набор \"-\"), длиной, равной размеру названия команды;\n",
        "\n",
        "преобразуйте строку в нижний регистр и выведите на экран:\n",
        "\n",
        "длину наименования команды;\n",
        "\n",
        "есть ли в наименовании команды буква \"п\" (True/False)?\n",
        "\n",
        "сколько раз повторяется буква \"а\"?\n",
        "3.2.4\n",
        "#3.2.4\n",
        "№ 3.2.4\n",
        "\n",
        "Дано двузначное и трехзначное число. Для каждого выведите на экран сумму и произведение цифр.\n"
      ],
      "metadata": {
        "id": "FPLOwajy6odt"
      }
    },
    {
      "cell_type": "code",
      "source": [
        "#3.2.2\n",
        "x = int(input(\"x=\"))\n",
        "y = int(input(\"y=\"))\n",
        "z = int(input(\"z=\"))\n",
        "\n",
        "t1=x**5+7\n",
        "t2=abs(-6)*y\n",
        "t3= 7 - (z%y)\n",
        "t4=(t1/t2)**1/3\n",
        "t5=t4/t3\n",
        "print(round(t5,2))\n",
        "res1 = ((x**5+7)/(abs(-6)*y))**(1/3)\n",
        "res2 = 7 - (z%y)\n",
        "res3 = res1/res2\n",
        "print(round(res3,2))\n"
      ],
      "metadata": {
        "colab": {
          "base_uri": "https://localhost:8080/"
        },
        "id": "iQPzVRljAWbJ",
        "outputId": "2f3b5e4a-80a9-4060-b77b-f0b514df7abe"
      },
      "execution_count": 18,
      "outputs": [
        {
          "output_type": "stream",
          "name": "stdout",
          "text": [
            "x=0\n",
            "y=1\n",
            "z=2\n",
            "0.06\n",
            "0.15\n"
          ]
        }
      ]
    },
    {
      "cell_type": "code",
      "source": [
        "#3.2.3\n",
        "r1 = float(input(\"r1=\"))\n",
        "r2 = float(input(\"r2=\"))\n",
        "r = round(r1 + r2,1)\n",
        "print(r)\n",
        "\n"
      ],
      "metadata": {
        "colab": {
          "base_uri": "https://localhost:8080/"
        },
        "id": "7O1pFErvGBoh",
        "outputId": "ae39b2c4-6d9d-4738-b381-8fd06c65c7a5"
      },
      "execution_count": 22,
      "outputs": [
        {
          "output_type": "stream",
          "name": "stdout",
          "text": [
            "r1=12.2\n",
            "r2=16.1\n",
            "28.3\n"
          ]
        }
      ]
    },
    {
      "cell_type": "code",
      "source": [
        "#3.2.6\n",
        "a = int(input(\"a=\"))\n",
        "b = int(input(\"b=\"))\n",
        "f = int(input(\"f=\"))\n",
        "e = int(input(\"e=\"))\n",
        "\n",
        "x = (0-b)/a\n",
        "is_ok = bool((x>=f) and (x<=e))\n",
        "print(\"Попадает:\", is_ok)\n"
      ],
      "metadata": {
        "colab": {
          "base_uri": "https://localhost:8080/"
        },
        "id": "lQT_tA2lFI4Z",
        "outputId": "b3122b7b-be00-4456-caed-78bcbdd6d33e"
      },
      "execution_count": 26,
      "outputs": [
        {
          "output_type": "stream",
          "name": "stdout",
          "text": [
            "a=1\n",
            "b=2\n",
            "f=-5\n",
            "e=5\n",
            "Попадает: True\n"
          ]
        }
      ]
    },
    {
      "cell_type": "code",
      "source": [
        "#3.2.7\n",
        "\n",
        "team = input(\"Введите название команды: \")\n",
        "print((team)+\"-чемпион!\")\n",
        "print(\"-\"*len(team))\n",
        "\n",
        "team_lowercase = print(team.lower())\n",
        "print(\"Символов в названии команды:\",len(team))\n",
        "print(\"Буква п есть:\",bool(\"n\" in \"Спартак\"))\n",
        "print(\"Количество букв а:\",team.find(\"а\"))\n"
      ],
      "metadata": {
        "colab": {
          "base_uri": "https://localhost:8080/"
        },
        "id": "bBZDhXfbImdu",
        "outputId": "3fa8418e-30a8-4933-e827-651116c07270"
      },
      "execution_count": 29,
      "outputs": [
        {
          "output_type": "stream",
          "name": "stdout",
          "text": [
            "Введите название команды: Спартак\n",
            "Спартак-чемпион!\n",
            "-------\n",
            "спартак\n",
            "Символов в названии команды: 7\n",
            "Буква п есть: False\n",
            "Количество букв а: 2\n"
          ]
        }
      ]
    },
    {
      "cell_type": "code",
      "source": [
        "num2 = list(map(int, input(\"Введите двузначное число: \"))) \n",
        "num3 = list(map(int, input(\"Введите трехзначное число: \")))\n",
        "num2_1 = num2[0]\n",
        "num2_2 = num2[1] \n",
        "num2_s = num2_1+num2_2 \n",
        "num2_p = num2_1*num2_2 \n",
        "num3_1 = num3[0] \n",
        "num3_2 = num3[1] \n",
        "num3_3 = num3[2] \n",
        "num3_s = num3_1+num3_2+num3_3  \n",
        "num3_p = num3_1*num3_2*num3_3  \n",
        "print(\"Получившиеся сумма и произведение цифр первого числа: \",num2_s, num2_p) \n",
        "print(\"Получившиеся сумма и произведение цифр второго числа\", num3_s, num3_p) "
      ],
      "metadata": {
        "colab": {
          "base_uri": "https://localhost:8080/"
        },
        "id": "ixMk_4MTNwUl",
        "outputId": "540de628-e790-4546-ecb5-0381d7b6383a"
      },
      "execution_count": 36,
      "outputs": [
        {
          "output_type": "stream",
          "name": "stdout",
          "text": [
            "Введите двузначное число: 45\n",
            "Введите трехзначное число: 456\n",
            "Получившиеся сумма и произведение цифр первого числа:  9 20\n",
            "Получившиеся сумма и произведение цифр второго числа 15 120\n"
          ]
        }
      ]
    }
  ]
}