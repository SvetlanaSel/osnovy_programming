{
  "nbformat": 4,
  "nbformat_minor": 0,
  "metadata": {
    "colab": {
      "provenance": [],
      "authorship_tag": "ABX9TyMiL/xd1NLBASkUXJcFB4sg",
      "include_colab_link": true
    },
    "kernelspec": {
      "name": "python3",
      "display_name": "Python 3"
    },
    "language_info": {
      "name": "python"
    }
  },
  "cells": [
    {
      "cell_type": "markdown",
      "metadata": {
        "id": "view-in-github",
        "colab_type": "text"
      },
      "source": [
        "<a href=\"https://colab.research.google.com/github/SvetlanaSel/osnovy_programming/blob/main/%D0%BB%D0%B0%D0%B17.ipynb\" target=\"_parent\"><img src=\"https://colab.research.google.com/assets/colab-badge.svg\" alt=\"Open In Colab\"/></a>"
      ]
    },
    {
      "cell_type": "markdown",
      "source": [
        "#№7.2.1."
      ],
      "metadata": {
        "id": "1Whe44Vu07GL"
      }
    },
    {
      "cell_type": "code",
      "source": [
        "\"\"\"\n",
        "Ошибки (номера строк через пробел, данная строка - №2): 11 15 \n",
        "\"\"\"\n",
        "\n",
        "\n",
        "def sum_of_digits(n):\n",
        "    \"\"\"Вернуть сумму цифр меньших 5 для положительного целого числа `n`.\n",
        "    Если таких цифр нет, вернуть 0.\"\"\"\n",
        "    c = 0\n",
        "    while n > 0:\n",
        "        digit = n % 10\n",
        "        if digit < 5:\n",
        "           с += digit\n",
        "        n //= 10\n",
        "    return c #не на том уровне был изначально\n",
        "sum_of_digits(11)"
      ],
      "metadata": {
        "id": "T8dc7nh4BQ2f"
      },
      "execution_count": null,
      "outputs": []
    },
    {
      "cell_type": "markdown",
      "source": [
        "#№7.2.2"
      ],
      "metadata": {
        "id": "_pLxsFRuzWo7"
      }
    },
    {
      "cell_type": "code",
      "source": [
        "\"\"\"\n",
        "Ошибки (номера строк через пробел, данная строка - №3): 10 14 15\n",
        "\"\"\"\n",
        "\n",
        "\n",
        "def primes(a, b):\n",
        "    \"\"\"Вернуть список простых чисел на отрезке от 'a' до 'b'.\"\"\"\n",
        "    res = []\n",
        "    c = 0\n",
        "    for i in range(a, b+1): #неверный диапазон\n",
        "        for j in range(i+1):\n",
        "            if i % (j + 1) == 0:\n",
        "                c += 1\n",
        "            if c == 2:\n",
        "                res.append(i)\n",
        "                c=0\n",
        "            else:\n",
        "                c=0\n",
        "    return res\n"
      ],
      "metadata": {
        "id": "Q0hegO3fB4Ur"
      },
      "execution_count": null,
      "outputs": []
    },
    {
      "cell_type": "markdown",
      "source": [
        "#№7.2.3.\n"
      ],
      "metadata": {
        "id": "gdvnXaru1DGD"
      }
    },
    {
      "cell_type": "code",
      "source": [
        "\"\"\"\n",
        "Ошибки (номера строк через пробел, данная строка - №2): 23 24\n",
        "\"\"\"\n",
        "\n",
        "\n",
        "def first_vacant_row(seats):\n",
        "    \"\"\"Вернуть первый ряд, в котором имеется больше всего\n",
        "    свободных мест и их количество.\n",
        "\n",
        "    Возвращаемая нумерация рядов с 1. Если свободных мест нет, вернуть 0, 0.\n",
        "\n",
        "    Параметры:\n",
        "        - seats (list of list): информация о проданных билетах\n",
        "                                (1 - продано, 0 - нет).\n",
        "\n",
        "    Результат:\n",
        "        - tuple (ряд, количество мест).\n",
        "    \"\"\"\n",
        "    max_count = 0\n",
        "    max_row = 0\n",
        "    for row_index, row in enumerate(seats):\n",
        "        available_seats_count = row.count(0)  # 0 - пусто\n",
        "        if available_seats_count > max_count:\n",
        "            max_row = row_index + 1 #изначально рассчет начинался с 0 ряда\n",
        "            max_count = available_seats_count \n",
        "\n",
        "    return max_row, max_count\n",
        "\n",
        "import random\n",
        "\n",
        "random.seed(50)\n",
        "\n",
        "ROWS_MAX = 10\n",
        "SEATS_MAX = 5\n",
        "\n",
        "seats = [[random.randint(0, 1) for seat in range(SEATS_MAX)]\n",
        "                               for row in range(ROWS_MAX)]\n",
        "\n",
        "for seat in seats:\n",
        "     print(seat)\n",
        "\n",
        "print(first_vacant_row(seats))\n"
      ],
      "metadata": {
        "id": "kzRkzQWsyaJE",
        "colab": {
          "base_uri": "https://localhost:8080/"
        },
        "outputId": "85ae8380-c496-40a7-ba50-dc8484230767"
      },
      "execution_count": 9,
      "outputs": [
        {
          "output_type": "stream",
          "name": "stdout",
          "text": [
            "[1, 1, 1, 0, 1]\n",
            "[1, 0, 1, 0, 0]\n",
            "[0, 1, 0, 1, 1]\n",
            "[0, 0, 0, 1, 1]\n",
            "[0, 0, 1, 1, 0]\n",
            "[0, 1, 1, 1, 0]\n",
            "[0, 1, 1, 1, 0]\n",
            "[1, 0, 0, 1, 0]\n",
            "[1, 1, 0, 1, 1]\n",
            "[0, 1, 0, 0, 1]\n",
            "(2, 3)\n"
          ]
        }
      ]
    },
    {
      "cell_type": "markdown",
      "source": [
        "#№7.2.4"
      ],
      "metadata": {
        "id": "Kzxi8HXS1Ltb"
      }
    },
    {
      "cell_type": "code",
      "source": [
        "\"\"\"\n",
        "Ошибки (номера строк через пробел, данная строка - №2): 8 9 10 12\n",
        "\"\"\"\n",
        "\n",
        "\n",
        "def min_pair(nums):\n",
        "    \"\"\"Вернуть минимальную сумму соседних 2-х чисел в списке 'nums'.\"\"\"\n",
        "    min_sum = nums[0] + nums[1] #вместо суммы было прописано умножение;min - ф-ия нахождения минимального значения, нельзя использовать в названии\n",
        "    for i in range(1, len(nums)-1): #неверный диапазон\n",
        "      min_sum = min(nums[i] + nums[i + 1], min_sum)\n",
        "\n",
        "    return min_sum\n",
        "\n",
        "import random\n",
        "random.seed(50)\n",
        "N_MAX = 10\n",
        "RANGE_MIN = 1\n",
        "RANGE_MAX = 100\n",
        "nums = random.sample(range(RANGE_MIN, RANGE_MAX), N_MAX)\n",
        "\n",
        "print(nums)\n",
        "\n",
        "print(min_pair(nums))"
      ],
      "metadata": {
        "id": "j-ZQWbf42ZjB",
        "colab": {
          "base_uri": "https://localhost:8080/"
        },
        "outputId": "d53427ef-ba8e-4a91-8cb3-13942513e874"
      },
      "execution_count": 17,
      "outputs": [
        {
          "output_type": "stream",
          "name": "stdout",
          "text": [
            "[64, 35, 47, 82, 32, 89, 61, 99, 43, 11]\n",
            "54\n"
          ]
        }
      ]
    },
    {
      "cell_type": "markdown",
      "source": [
        "#№7.2.5."
      ],
      "metadata": {
        "id": "rAN7TQRi395R"
      }
    },
    {
      "cell_type": "code",
      "source": [
        "\"\"\"\n",
        "Ошибки (номера строк через пробел, данная строка - №2): 9 10 11 12 13 14\n",
        "\"\"\"\n",
        "\n",
        "\n",
        "def non_negatives(nums):\n",
        "    \"\"\"Удалить из списка чисел 'nums' отрицательные элементы и вернуть\n",
        "    измененный список.\"\"\"\n",
        "    res = nums.copy() #копия \n",
        "    for number in list(res): #список чисел\n",
        "        if number < 0:\n",
        "            res.remove(number) #функция del не подходит, т.к. для ее использования нам надо знать индекс отрицательного числа\n",
        "\n",
        "    return res"
      ],
      "metadata": {
        "id": "zvosVscY4r3D"
      },
      "execution_count": 10,
      "outputs": []
    },
    {
      "cell_type": "code",
      "source": [
        "import random\n",
        "\n",
        "n = 10\n",
        "nums = [round(random.uniform(-10, 10), 2) for i in range(n)]\n",
        "print(nums)\n",
        "nums = non_negatives(nums) #новое значение для nums\n",
        "print(nums) "
      ],
      "metadata": {
        "colab": {
          "base_uri": "https://localhost:8080/"
        },
        "id": "xvoDGHi0T6BW",
        "outputId": "804f1e67-4e6c-4ac8-909c-3f4927de36d7"
      },
      "execution_count": 11,
      "outputs": [
        {
          "output_type": "stream",
          "name": "stdout",
          "text": [
            "[-9.82, 1.74, -1.78, 9.57, 7.01, 6.58, 6.06, -5.52, 4.52, -8.04]\n",
            "[1.74, 9.57, 7.01, 6.58, 6.06, 4.52]\n"
          ]
        }
      ]
    },
    {
      "cell_type": "markdown",
      "source": [
        "#№7.2.6"
      ],
      "metadata": {
        "id": "SBCJBWgADE__"
      }
    },
    {
      "cell_type": "code",
      "source": [
        "\"\"\"\n",
        "Ошибки (номера строк через пробел, данная строка - №2): 11\n",
        "\"\"\"\n",
        "\n",
        "\n",
        "def unemployment_rate(unemployed, employed):\n",
        "    \"\"\"Вернуть уровень безработицы (УБ) в долях 1.\n",
        "\n",
        "       Расчет по формуле: УБ = Безработные / (Занятые + Безработные).\n",
        "    \"\"\"\n",
        "    if (unemployed >= 0) and (employed + unemployed !=0): #иначе отрицательное кол-во чел будет так же подходить для рассчета статистики\n",
        "      return unemployed/(unemployed + employed)\n",
        "    else:\n",
        "      raise ValueError('проверить исходные данные') #при знач < 0\n",
        "\n",
        "try:\n",
        "    unemployed = int(input(\"Введите кол-во безработных (чел.): \")) #проверка\n",
        "    employed = int(input(\"Введите кол-во занятых (чел.): \"))\n",
        "    rate = unemployment_rate(unemployed, employed)\n",
        "    print(\"Уровень безработицы = {:.1%}\".format(rate))\n",
        "except ValueError as error:\n",
        "  print('Error: ', error)\n",
        "except Exception as error:\n",
        "  print('Unknown error: ', error)"
      ],
      "metadata": {
        "colab": {
          "base_uri": "https://localhost:8080/"
        },
        "id": "D_qW4U916SDb",
        "outputId": "9eab89da-2a38-40fb-a87a-dd902602b439"
      },
      "execution_count": 13,
      "outputs": [
        {
          "output_type": "stream",
          "name": "stdout",
          "text": [
            "Введите кол-во безработных (чел.): 10\n",
            "Введите кол-во занятых (чел.): 2\n",
            "Уровень безработицы = 83.3%\n"
          ]
        }
      ]
    },
    {
      "cell_type": "markdown",
      "source": [
        "#№7.2.7"
      ],
      "metadata": {
        "id": "ZF6DpWs_ByyB"
      }
    },
    {
      "cell_type": "code",
      "source": [
        "\"\"\"\n",
        "Ошибки (номера строк через пробел, данная строка - №2): 14 15\n",
        "\"\"\"\n",
        "\n",
        "\n",
        "def power(x, y=2):\n",
        "    \"\"\"Вернуть x^y.\"\"\"\n",
        "    if y == 0:\n",
        "        return 1\n",
        "    else:\n",
        "        return x * power(x, y - 1)\n",
        "\n",
        "\n",
        "x = int(input(\"x=\")) #возможна ошибка с типизацией данных, поэтому добавим критерий\n",
        "y = int(input(\"y=\"))\n",
        "print(power(x, y))\n",
        "try:\n",
        "  x = int(input(\"x=\")) \n",
        "  y = int(input(\"y=\"))\n",
        "  print(f'Result: {power(x, y)}')\n",
        "except Exception as error1:\n",
        "  print(f'Error. Code: {type(error1)}')\n",
        "  print(f'Details: {error1}')"
      ],
      "metadata": {
        "colab": {
          "base_uri": "https://localhost:8080/"
        },
        "id": "HkJK-C6LBzHD",
        "outputId": "ef771d2d-59fa-4a83-de7d-2b35a4455c14"
      },
      "execution_count": null,
      "outputs": [
        {
          "output_type": "stream",
          "name": "stdout",
          "text": [
            "x=3\n",
            "y=5\n",
            "243\n",
            "x=8\n",
            "y=0.2\n",
            "Error. Code: <class 'ValueError'>\n",
            "Details: invalid literal for int() with base 10: '0.2'\n"
          ]
        }
      ]
    },
    {
      "cell_type": "markdown",
      "source": [
        "#№7.2.8"
      ],
      "metadata": {
        "id": "AfRk3XMIDCwg"
      }
    },
    {
      "cell_type": "code",
      "source": [
        "\"\"\"\n",
        "Ошибки (номера строк через пробел, данная строка - №2):  13 \n",
        "\"\"\"\n",
        "\n",
        "\n",
        "# Дан список ФИО. Найти наиболее часто встречаемое отчество.\n",
        "# Если отчества нет, человек не учитывается в подсчете.\n",
        "try:\n",
        "  n = int(input(\"Введите кол-во человек: \"))\n",
        "\n",
        "  middle_names = {}\n",
        "  for i in range(n):\n",
        "      fio = input(str(\"Введите ФИО через пробел: \")).split() #добавила тип данных, чтобы при вводе цифр в фио выдавало ошибку\n",
        "      try:\n",
        "        middle_name = fio[2]\n",
        "        middle_names[middle_name] = middle_names.get(middle_name, 0) + 1\n",
        "      except IndexError:\n",
        "        pass\n",
        "  print(sorted(middle_names.items(), key=lambda item: item[1])[-1][0])\n",
        "  print(\"В расчете участвовало человек:\", n)\n",
        "except ValueError as error:\n",
        "  print('ошибка, проверьте исходные данные', error)\n",
        "except IndexError as error:\n",
        "  print('ошибка, проверьте исходные данные', error)\n",
        "except Exception as error:\n",
        "  print('ошибка', error)"
      ],
      "metadata": {
        "colab": {
          "base_uri": "https://localhost:8080/"
        },
        "id": "293HTsnVDC45",
        "outputId": "434ab964-5f1b-4a52-d12e-b904e26e70af"
      },
      "execution_count": 14,
      "outputs": [
        {
          "output_type": "stream",
          "name": "stdout",
          "text": [
            "Введите кол-во человек: 3\n",
            "Введите ФИО через пробел: данилова арина дмитриевна\n",
            "Введите ФИО через пробел: иванов иван петрович\n",
            "Введите ФИО через пробел: селиванов кирилл дмитриевич\n",
            "дмитриевич\n",
            "В расчете участвовало человек: 3\n"
          ]
        }
      ]
    }
  ]
}