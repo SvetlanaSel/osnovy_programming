{
  "nbformat": 4,
  "nbformat_minor": 0,
  "metadata": {
    "colab": {
      "provenance": [],
      "collapsed_sections": [],
      "authorship_tag": "ABX9TyPfYY0kOzlmV9nm/v5mwE8M",
      "include_colab_link": true
    },
    "kernelspec": {
      "name": "python3",
      "display_name": "Python 3"
    },
    "language_info": {
      "name": "python"
    }
  },
  "cells": [
    {
      "cell_type": "markdown",
      "metadata": {
        "id": "view-in-github",
        "colab_type": "text"
      },
      "source": [
        "<a href=\"https://colab.research.google.com/github/SvetlanaSel/osnovy_programming/blob/main/lab4.ipynb\" target=\"_parent\"><img src=\"https://colab.research.google.com/assets/colab-badge.svg\" alt=\"Open In Colab\"/></a>"
      ]
    },
    {
      "cell_type": "markdown",
      "source": [
        "#4.2.1.\n",
        "№4.2.1.\n",
        "Рассчитать значение f при заданном значении вещественного числа x:\n",
        "\n",
        "![2022-09-16 (2).png](data:image/png;base64,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)\n",
        "при x⩾0,в противном случае.\n",
        "При выводе на экран оставьте 2 знака после запятой.\n",
        "\n",
        "#4.2.2.\n",
        "4.2.2.\n",
        "Определите максимальное и минимальное значения из двух различных целых чисел.\n",
        "\n",
        "#4.2.3.\n",
        "4.2.3.\n",
        "Вася пытается высунуть голову в форточку размерами a и b см. Приняв условно, что его голова - круглая диаметром d см, определите, сможет ли Вася сделать это. Для прохождения головы в форточку необходим зазор в 1 см. с каждой стороны.\n",
        "\n",
        "Все величины - целые числа.\n",
        "\n",
        "#4.2.4.\n",
        "4.2.4.\n",
        "Известны год и номер месяца сегодняшнего дня, а также год и номер месяца рождения человека (нумерация месяцев с 1: январь - 1 и т.д.). Определите возраст человека (число полных лет).\n",
        "\n",
        "#4.2.5.\n",
        "4.2.5.\n",
        "Дана точка с целыми ненулевыми координатами (x;y). Определить номер четверти координатной плоскости, которой она принадлежит.\n",
        "\n",
        "#4.2.6.\n",
        "4.2.6.\n",
        "Даны вещественные числа a, b, c (a≠0).\n",
        "Решите уравнение ax^2+bx+c=0. При выводе значений оставьте 1 знак после запятой.\n",
        "\n",
        "#4.2.7.\n",
        "4.2.7.\n",
        "Дана непустая последовательность целых чисел, оканчивающаяся нулем. Найти сумму и количество введенных чисел.\n",
        "\n",
        "#4.2.8.\n",
        "4.2.8.\n",
        "Дано число n. Из чисел 0,5,10,15,20,25,... напечатать те, которые не превышают n.\n",
        "\n",
        "#4.2.9.\n",
        "4.2.9.\n",
        "Дано вещественное число a. Найдите наименьшее натуральное n, для которого верно. \n",
        "![2022-09-21 (2).png](data:image/png;base64,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)\n",
        "\n",
        "#4.2.10.\n",
        "4.2.10.\n",
        "Дано натуральное число. Определите сумму и количество его цифр.\n",
        "\n",
        "#4.2.11.\n",
        "4.2.11.\n",
        "Вывести в строку 10 первых натуральных чисел, оканчивающихся на цифру k, кратных числу s и находящихся в интервале, левая граница которого равна start.\n",
        "\n",
        "#4.2.14.\n",
        "4.2.14.\n",
        "Начав тренировки, лыжник в первый день пробежал s км. (s>0, вещественное число). Каждый следующий день он увеличивал пробег на p % (0<p≤100, вещественное число) от пробега предыдущего дня. Определите:\n",
        "\n",
        "пробег лыжника за второй, третий, …, десятый день тренировок;\n",
        "\n",
        "какой суммарный путь он пробежал за первые 10 дней тренировок.\n",
        "\n",
        "При выводе вещественных результатов оставьте один знак после запятой.\n",
        "\n",
        "#4.2.15.\n",
        "4.2.15.\n",
        "Известна масса каждого предмета в кг., загружаемого в грузовик. Определить, возможна ли перевозка груза, если грузоподъемность грузовика равна p кг.\n",
        "\n",
        "#4.2.16.\n",
        "4.2.16.\n",
        "В области несколько районов. Заданы площади, засеваемые пшеницей (га.), и средняя урожайность (ц/га) в каждом районе.\n",
        "\n",
        "Определите количество пшеницы, собранное по области. При выводе вещественных результатов оставьте один знак после запятой.\n",
        "\n",
        "#4.2.17.\n",
        "4.2.17.\n",
        "Решите задачу № 4.2.7, организовав бесконечный цикл, который бы прерывался при выполнении условия, используя оператор break.\n",
        "\n",
        "#4.2.19.\n",
        "4.2.19.\n",
        "Выведите на экран (в строку) все целые числа от a до b, кратные некоторому числу c.\n",
        "\n",
        "#4.2.20.\n",
        "4.2.20.\n",
        "Выведите на экран (в строку) все трехзначные натуральные числа, сумма цифр которых равна целому числу n (0<n≤27).\n",
        "\n",
        "#4.2.22.\n",
        "4.2.22.\n",
        "Даны n вещественных чисел. Определите максимальное и минимальное из них.\n",
        "\n",
        "#4.2.23.\n",
        "4.2.23.\n",
        "Дано натуральное число n. Определите, является ли оно членом последовательности Фибоначчи .\n",
        "\n",
        "#4.2.24.\n",
        "4.2.24.\n",
        "Дано n вещественных чисел. Определите, является ли последовательность упорядоченной по возрастанию. В случае отрицательного ответа выведите порядковый номер числа, нарушающего такую упорядоченность.\n",
        "\n",
        "#4.2.25.\n",
        "4.2.25.\n",
        "Выведите на экран таблицу умножения на n (2<n≤9) в виде:\n",
        "\n",
        "1 х 1 = 1     1 х 2 = 2      ...   1 х n = ...\n",
        "2 х 1 = 2     2 х 2 = 4      ...   2 х n = ...\n",
        "...           ...            ...   ...\n",
        "n х 1 = ...   n х 2 = ...    ...   n х n = ...\n",
        "\n"
      ],
      "metadata": {
        "id": "rUUJwrsUEIJl"
      }
    },
    {
      "cell_type": "code",
      "execution_count": null,
      "metadata": {
        "colab": {
          "base_uri": "https://localhost:8080/"
        },
        "id": "yPtTV3yQCtvr",
        "outputId": "e08822dc-5078-4cec-92ad-583c71a1d645"
      },
      "outputs": [
        {
          "output_type": "stream",
          "name": "stdout",
          "text": [
            "x=-10\n",
            "Результат: -0.1\n"
          ]
        }
      ],
      "source": [
        "# Программирование на языке высокого уровня (Python).\n",
        "# https://www.yuripetrov.ru/edu/python\n",
        "# Задание task_04_02_01.\n",
        "# Выполнил: Селиверстова С. Н.\n",
        "# Группа: АДЭУ-221\n",
        "# E-mail: svseliverstova2804@mail.ru\n",
        "\n",
        "\n",
        "x = int(input('x='))\n",
        "if x>=0 :\n",
        "  f = (x**(1/2)) + (x**2)\n",
        "else:\n",
        "  f = 1/x \n",
        "print(\"Результат:\", round(f, 2))\n"
      ]
    },
    {
      "cell_type": "code",
      "source": [
        "# Задание task_04_02_02.\n",
        "a1 = float(input('a1= '))\n",
        "a2 = float(input('a2= '))\n",
        "a_min = print('Минимум:', min(a1, a2))\n",
        "a_max = print('Максимум:', max(a1, a2))\n",
        "\n",
        "\n"
      ],
      "metadata": {
        "colab": {
          "base_uri": "https://localhost:8080/"
        },
        "id": "blH41WBhKyfm",
        "outputId": "9604c8c1-df08-4926-dc1f-2f50d983aae0"
      },
      "execution_count": null,
      "outputs": [
        {
          "output_type": "stream",
          "name": "stdout",
          "text": [
            "a1= 100\n",
            "a2= -1\n",
            "Минимум: -1.0\n",
            "Максимум: 100.0\n"
          ]
        }
      ]
    },
    {
      "cell_type": "code",
      "source": [
        "# Задание task_04_02_03.\n",
        "\n",
        "\n",
        "\n",
        "a = int(input('a= '))\n",
        "b = int(input('b= '))\n",
        "d = int(input('d= '))\n",
        "\n",
        "if ((a-1>=d) and (b-1>=d)):\n",
        "  print('Да')\n",
        "else:\n",
        "  print('Нет')\n",
        "if ((a or b or h) < 0):\n",
        "  print('Проверьте ввод')\n",
        "\n"
      ],
      "metadata": {
        "id": "kXKkPT5wNC5Q",
        "colab": {
          "base_uri": "https://localhost:8080/"
        },
        "outputId": "51bc1a98-6afd-44a2-c56f-4a566c292ab8"
      },
      "execution_count": null,
      "outputs": [
        {
          "output_type": "stream",
          "name": "stdout",
          "text": [
            "a= -1\n",
            "b= 0\n",
            "d= 0\n",
            "Нет\n",
            "Проверьте ввод\n"
          ]
        }
      ]
    },
    {
      "cell_type": "code",
      "source": [
        "# Задание task_04_02_04.\n",
        "\n",
        "year_today = int(input('Введите текущий год:'))\n",
        "month_today = int(input('Введите текущий месяц:'))\n",
        "\n",
        "year = int(input('Введите год рождения:'))\n",
        "month = int(input('Введите месяц рождения:'))\n",
        "age = year_today - year\n",
        "if (month > month_today):\n",
        " print('Число полных лет:', age-1)\n",
        "else:\n",
        "  print('Число полных лет:', age)\n",
        "if (month_today or month) < 0:\n",
        "    print('Проверьте значение')\n"
      ],
      "metadata": {
        "colab": {
          "base_uri": "https://localhost:8080/"
        },
        "id": "J4y6dUfm7va7",
        "outputId": "a21319a3-97b0-4a44-c7db-b696d3e9d20c"
      },
      "execution_count": null,
      "outputs": [
        {
          "output_type": "stream",
          "name": "stdout",
          "text": [
            "Введите текущий год:2017\n",
            "Введите текущий месяц:5\n",
            "Введите год рождения:2000\n",
            "Введите месяц рождения:1\n",
            "Число полных лет: 17\n"
          ]
        }
      ]
    },
    {
      "cell_type": "code",
      "source": [
        "# Задание task_04_02_05.\n",
        "\n",
        "x = int(input('x = '))\n",
        "y = int(input('y = '))\n",
        "\n",
        "if (x>0 and y>0):\n",
        "  print(\"1-я четверть\")\n",
        "elif (x<0 and y>0):\n",
        "  print('2-ая четверть')\n",
        "elif (x<0 and y<0):\n",
        "  print('3-я четверть')\n",
        "elif (x>0 and y<0):\n",
        "  print('4-я четверть')\n",
        "\n"
      ],
      "metadata": {
        "id": "J9fAzPIKE-Vx",
        "colab": {
          "base_uri": "https://localhost:8080/"
        },
        "outputId": "c45332a6-cc7e-4961-aeef-2767238440f3"
      },
      "execution_count": null,
      "outputs": [
        {
          "output_type": "stream",
          "name": "stdout",
          "text": [
            "x = 5\n",
            "y = 7\n",
            "1-я четверть\n"
          ]
        }
      ]
    },
    {
      "cell_type": "code",
      "source": [
        "# Задание task_04_02_06.\n",
        "\n",
        "a = float(input('a= '))\n",
        "b = float(input('b= '))\n",
        "c = float(input('c= '))\n",
        "\n",
        "d =((b**2)-4*a*c)\n",
        "if d<0:\n",
        "  print('нет решений')\n",
        "elif d==0:\n",
        "  x1=((-1*b)/2*a)\n",
        "  print('x =-', round(x1, 1))\n",
        "elif d>0:\n",
        "  x2 = (((-1*b)-(d**(1/2)))/2*a)\n",
        "  x1 = (((-1*b)+(d**(1/2)))/2*a)\n",
        "  print('x1 =', round(x1, 1), 'x2 =', round(x2, 1))\n"
      ],
      "metadata": {
        "colab": {
          "base_uri": "https://localhost:8080/"
        },
        "id": "LY7iytzCDQPl",
        "outputId": "61019f97-12fc-43cc-c82b-fe5284814602"
      },
      "execution_count": null,
      "outputs": [
        {
          "output_type": "stream",
          "name": "stdout",
          "text": [
            "a= 1\n",
            "b= 3\n",
            "c= -4\n",
            "x1 = 1.0 x2 = -4.0\n"
          ]
        }
      ]
    },
    {
      "cell_type": "code",
      "source": [
        "# Задание task_04_02_07.\n",
        "x= int(input('Введите 1-е число:'))\n",
        "nums = list()\n",
        "\n",
        "while x!=0:\n",
        "  nums.append(x)\n",
        "  x = int(input('Введите дополнительное число: '))\n",
        "\n",
        "print('Количество: ', len(nums))\n",
        "print('Сумма: ',sum(nums))"
      ],
      "metadata": {
        "colab": {
          "base_uri": "https://localhost:8080/"
        },
        "id": "dUcpNZsdIJMq",
        "outputId": "636a9df1-ff24-4929-c7b5-0d745ac7e682"
      },
      "execution_count": null,
      "outputs": [
        {
          "output_type": "stream",
          "name": "stdout",
          "text": [
            "Введите 1-е число:1\n",
            "Введите дополнительное число: 2\n",
            "Введите дополнительное число: 3\n",
            "Введите дополнительное число: 4\n",
            "Введите дополнительное число: 0\n",
            "Количество:  4\n",
            "Сумма:  10\n"
          ]
        }
      ]
    },
    {
      "cell_type": "code",
      "source": [
        "# Задание task_04_02_08.\n",
        "\n",
        "n = int(input('Введите число n: '))\n",
        "a = 0\n",
        "print('0')\n",
        "\n",
        "while a<=n:\n",
        "    a = a+5\n",
        "    if a<n:\n",
        "      print(a)\n",
        "    else:\n",
        "      break\n"
      ],
      "metadata": {
        "colab": {
          "base_uri": "https://localhost:8080/"
        },
        "id": "vHqnCMNSkXQ3",
        "outputId": "7b477803-9c9b-4200-f289-b468564704eb"
      },
      "execution_count": null,
      "outputs": [
        {
          "output_type": "stream",
          "name": "stdout",
          "text": [
            "Введите число n: 12\n",
            "0\n",
            "5\n",
            "10\n"
          ]
        }
      ]
    },
    {
      "cell_type": "code",
      "source": [
        "# Задание task_04_02_09.\n",
        "a = float(input('Введите вещественное число: '))\n",
        "n = 1 \n",
        "x_sum = list() \n",
        "x_sum.append(n)\n",
        "while sum(x_sum)<=a:\n",
        "    n = n+1\n",
        "    g = 1/n\n",
        "    x_sum.append(g)\n",
        "\n",
        "print(n)\n"
      ],
      "metadata": {
        "colab": {
          "base_uri": "https://localhost:8080/"
        },
        "id": "1NzL4f7Ir_6g",
        "outputId": "ca049bef-ef14-43f5-c366-30dd88cee868"
      },
      "execution_count": null,
      "outputs": [
        {
          "output_type": "stream",
          "name": "stdout",
          "text": [
            "Введите вещественное число: 1.5\n",
            "3\n"
          ]
        }
      ]
    },
    {
      "cell_type": "code",
      "source": [
        "# Задание task_04_02_10.\n",
        "\n",
        "n = list(map(int, input('Введите целое натуральное число: ')))\n",
        "\n",
        "n_sum = sum(n)\n",
        "n_count = len(n) \n",
        "\n",
        "print('Сумма: ', n_sum)\n",
        "print('Количество: ', n_count)\n"
      ],
      "metadata": {
        "colab": {
          "base_uri": "https://localhost:8080/"
        },
        "id": "Yx7xjcm6vxaX",
        "outputId": "a5c602f5-f5e5-43ff-a6e0-b18801e0bd59"
      },
      "execution_count": null,
      "outputs": [
        {
          "output_type": "stream",
          "name": "stdout",
          "text": [
            "Введите целое натуральное число: 12345\n",
            "Сумма:  15\n",
            "Количество:  5\n"
          ]
        }
      ]
    },
    {
      "cell_type": "code",
      "source": [
        "# Задание task_04_02_11.\n",
        "\n",
        "start = int(input('start ='))\n",
        "k = int(input('k ='))\n",
        "s = int(input('s ='))\n",
        "need=list()\n",
        "while start%s!=0:\n",
        "    start += 1\n",
        "else:\n",
        "    for x in range(99):\n",
        "        start += 1\n",
        "        while start%s!=0:\n",
        "            start += 1\n",
        "        else:\n",
        "            if start%10==k:\n",
        "                need.append(start)\n",
        "\n",
        "print(need[:10])"
      ],
      "metadata": {
        "colab": {
          "base_uri": "https://localhost:8080/"
        },
        "id": "jhH7F4pn2khe",
        "outputId": "0c7bf5f1-ec5d-40ce-d64c-8b41a9fe78b1"
      },
      "execution_count": null,
      "outputs": [
        {
          "output_type": "stream",
          "name": "stdout",
          "text": [
            "start =100\n",
            "k =7\n",
            "s =9\n",
            "[117, 207, 297, 387, 477, 567, 657, 747, 837, 927]\n"
          ]
        }
      ]
    },
    {
      "cell_type": "code",
      "source": [
        "# Задание task_04_02_14.\n",
        "s = float(input('Пробег в 1-ый день: '))\n",
        "p = float(input('Процент увеличения нагрузки: '))\n",
        "\n",
        "t = list() \n",
        "t.append(s) \n",
        "a = 0\n",
        "b = 1\n",
        "for x in range(9):\n",
        "    s = ((s*(p/100))+s)+0.0001\n",
        "    b += 1\n",
        "    t.append(s)\n",
        "    print('Пробег за',b,'день: ', round(s,1), 'км.')\n",
        "\n",
        "total = sum(t)\n",
        "print('Суммарный пробег: ' , round(total,1))"
      ],
      "metadata": {
        "colab": {
          "base_uri": "https://localhost:8080/"
        },
        "id": "eSiP_LJJDrQK",
        "outputId": "6c4220b2-08d5-45cf-8f28-6155886c5526"
      },
      "execution_count": 5,
      "outputs": [
        {
          "output_type": "stream",
          "name": "stdout",
          "text": [
            "Пробег в 1-ый день: 5\n",
            "Процент увеличения нагрузки: 10\n",
            "Пробег за 2 день:  5.5 км.\n",
            "Пробег за 3 день:  6.1 км.\n",
            "Пробег за 4 день:  6.7 км.\n",
            "Пробег за 5 день:  7.3 км.\n",
            "Пробег за 6 день:  8.1 км.\n",
            "Пробег за 7 день:  8.9 км.\n",
            "Пробег за 8 день:  9.7 км.\n",
            "Пробег за 9 день:  10.7 км.\n",
            "Пробег за 10 день:  11.8 км.\n",
            "Суммарный пробег:  79.7\n"
          ]
        }
      ]
    },
    {
      "cell_type": "code",
      "source": [
        "# Задание task_04_02_15.\n",
        "p = int(input('Грузоподъемность грузовика (кг.): '))\n",
        "n = int(input('Количество предметов: '))\n",
        "\n",
        "a = list()\n",
        "for x in range(n):\n",
        "    m = int(input('Масса предмета (кг.): '))\n",
        "    a.append(m)\n",
        "\n",
        "if sum(a)>=p:\n",
        "    print('Нет')\n",
        "else:\n",
        "    print('Да')\n"
      ],
      "metadata": {
        "colab": {
          "base_uri": "https://localhost:8080/"
        },
        "id": "NTI_5wLxGGOZ",
        "outputId": "da496468-a552-4d9d-d688-9c66fda992d5"
      },
      "execution_count": null,
      "outputs": [
        {
          "output_type": "stream",
          "name": "stdout",
          "text": [
            "Грузоподъемность грузовика (кг.): 10\n",
            "Количество предметов: 2\n",
            "Масса предмета (кг.): 3\n",
            "Масса предмета (кг.): 3\n",
            "Да\n"
          ]
        }
      ]
    },
    {
      "cell_type": "code",
      "source": [
        "# Задание task_04_02_16.\n",
        "n = int(input('Количество районов: '))\n",
        "\n",
        "total = list()\n",
        "for x in range(n):\n",
        "    a = float(input('Площадь района (га): ')) \n",
        "    b = float(input('Урожайность в районе (ц/га.): ')) \n",
        "    c = b*a\n",
        "    total.append(c)\n",
        "\n",
        "print(round(sum(total), 1))\n"
      ],
      "metadata": {
        "id": "LPFy1NwfIlo4",
        "colab": {
          "base_uri": "https://localhost:8080/"
        },
        "outputId": "cc6db125-9b76-4055-f72e-f99b3c09f7df"
      },
      "execution_count": null,
      "outputs": [
        {
          "output_type": "stream",
          "name": "stdout",
          "text": [
            "Количество районов: 3\n",
            "Площадь района (га): 4\n",
            "Урожайность в районе (ц/га.): 2\n",
            "Площадь района (га): 7\n",
            "Урожайность в районе (ц/га.): 3\n",
            "Площадь района (га): 9\n",
            "Урожайность в районе (ц/га.): 4\n",
            "65.0\n"
          ]
        }
      ]
    },
    {
      "cell_type": "code",
      "source": [
        "# Задание task_04_02_17.\n",
        "nums_sum = 0 \n",
        "nums_count = 0  \n",
        "\n",
        "x = int(input('Введите число: '))\n",
        "a = list()\n",
        "\n",
        "while x!=0:\n",
        "    nums_count = nums_count+1\n",
        "    a.append(x)\n",
        "    nums_sum = nums_sum+x\n",
        "    x = int(input('Введите следующее число: '))\n",
        "    if x==0:\n",
        "        break\n",
        "\n",
        "print('Сумма = ', nums_sum)\n",
        "print('Количество = ',nums_count)"
      ],
      "metadata": {
        "id": "S1fQtZTpJ-D3",
        "colab": {
          "base_uri": "https://localhost:8080/"
        },
        "outputId": "449680c1-333f-4fae-c9ee-1289ad05eb3a"
      },
      "execution_count": null,
      "outputs": [
        {
          "output_type": "stream",
          "name": "stdout",
          "text": [
            "Введите число: 1\n",
            "Введите следующее число: 2\n",
            "Введите следующее число: 3\n",
            "Введите следующее число: 4\n",
            "Введите следующее число: 0\n",
            "Сумма =  10\n",
            "Количество =  4\n"
          ]
        }
      ]
    },
    {
      "cell_type": "code",
      "source": [
        "# Задание task_04_02_19.\n",
        "a = int(input('Введите 1-е число: '))\n",
        "b = int(input('Введите 2-е число: '))\n",
        "c = int(input('Введите 3-е число: '))\n",
        "\n",
        "l = list()\n",
        "\n",
        "for y in range(a,b+1):\n",
        "    if y%c==0:\n",
        "        l.append(y)\n",
        "\n",
        "print(l)\n"
      ],
      "metadata": {
        "colab": {
          "base_uri": "https://localhost:8080/"
        },
        "id": "-pRMEsGmL-qZ",
        "outputId": "3ceb43d6-5c24-4ce2-8e63-07ca75ce1f55"
      },
      "execution_count": null,
      "outputs": [
        {
          "output_type": "stream",
          "name": "stdout",
          "text": [
            "Введите 1-е число: 1\n",
            "Введите 2-е число: 10\n",
            "Введите 3-е число: 2\n",
            "[2, 4, 6, 8, 10]\n"
          ]
        }
      ]
    },
    {
      "cell_type": "code",
      "source": [
        "# Задание task_04_02_20.\n",
        "n = int(input('Введите число: '))\n",
        "\n",
        "g = list()\n",
        "\n",
        "for x in range(100, 1000): \n",
        "    a = sum(int(e) for e in str(x))\n",
        "    if a==n:\n",
        "        g.append(x)\n",
        "\n",
        "print(g)\n"
      ],
      "metadata": {
        "id": "uvwNxgDiQjbA",
        "colab": {
          "base_uri": "https://localhost:8080/"
        },
        "outputId": "207e2cbe-d9ff-4286-b7f8-3a31c1f89702"
      },
      "execution_count": 1,
      "outputs": [
        {
          "output_type": "stream",
          "name": "stdout",
          "text": [
            "Введите число: 3\n",
            "[102, 111, 120, 201, 210, 300]\n"
          ]
        }
      ]
    },
    {
      "cell_type": "code",
      "source": [
        "# Задание task_04_02_22.\n",
        "\n",
        "n = int(input('n = '))\n",
        "t = list()\n",
        "\n",
        "a_max = None\n",
        "a_min = None\n",
        "\n",
        "for x in range(n):\n",
        "  a = float(input('a = '))\n",
        "  t.append(a)\n",
        "\n",
        "l = max(t)\n",
        "g = min(t)\n",
        "\n",
        "print(\"Максимум: \", l)\n",
        "print(\"Минимум: \", g)\n"
      ],
      "metadata": {
        "colab": {
          "base_uri": "https://localhost:8080/"
        },
        "id": "trnZWPiBgFXm",
        "outputId": "b37e9bca-bd62-40c5-d958-f5c711677a5d"
      },
      "execution_count": null,
      "outputs": [
        {
          "output_type": "stream",
          "name": "stdout",
          "text": [
            "n = 4\n",
            "a = 6.2\n",
            "a = 3.8\n",
            "a = 1.1\n",
            "a = 9.66\n",
            "Максимум:  9.66\n",
            "Минимум:  1.1\n"
          ]
        }
      ]
    },
    {
      "cell_type": "code",
      "source": [
        "# Задание task_04_02_23.\n",
        "n = int(input('n= '))\n",
        "\n",
        "a = 1\n",
        "b = 1\n",
        "c = 1\n",
        "\n",
        "while n!=a:\n",
        "    if n<a:\n",
        "        print('Не является')\n",
        "        break\n",
        "    else:\n",
        "        c = a\n",
        "        a += b\n",
        "        b = c\n",
        "else:\n",
        "    print('Является')"
      ],
      "metadata": {
        "colab": {
          "base_uri": "https://localhost:8080/"
        },
        "id": "KgACEEPp2d3D",
        "outputId": "9d0a71de-f9b4-45d6-dcaf-a6a9898a8579"
      },
      "execution_count": 6,
      "outputs": [
        {
          "output_type": "stream",
          "name": "stdout",
          "text": [
            "n= 7\n",
            "Не является\n"
          ]
        }
      ]
    },
    {
      "cell_type": "code",
      "source": [
        "# Задание task_04_02_24.\n",
        "n = int(input('n = '))\n",
        "\n",
        "a = list()\n",
        "b = float(input('1-е число: '))\n",
        "a.append(b)\n",
        "d = 1\n",
        "\n",
        "for x in range(n-1):\n",
        "    d += 1\n",
        "    b = float(input('Введите следующее число: '))\n",
        "    if b<=a[-1]:\n",
        "        print(d)\n",
        "        break\n",
        "\n",
        "\n",
        "if b>a[-1]:\n",
        "    print('Является')\n"
      ],
      "metadata": {
        "colab": {
          "base_uri": "https://localhost:8080/"
        },
        "id": "Q_K9mgpmlD1u",
        "outputId": "578c37c0-2bef-472d-ad32-ff1b9db39fc4"
      },
      "execution_count": null,
      "outputs": [
        {
          "output_type": "stream",
          "name": "stdout",
          "text": [
            "n = 4\n",
            "1-е число: 2\n",
            "Введите следующее число: 4.6\n",
            "Введите следующее число: 6\n",
            "Введите следующее число: 8.3\n",
            "Является\n"
          ]
        }
      ]
    },
    {
      "cell_type": "code",
      "source": [
        "# Задание task_04_02_25.\n",
        "n = int(input('Введите целое число: '))\n",
        "\n",
        "for x in range(1, n+1):\n",
        "    for y in range(1, n+1):\n",
        "        print(f'{x} * {y} = {x * y}\\t', end=' ')\n",
        "    print('')"
      ],
      "metadata": {
        "colab": {
          "base_uri": "https://localhost:8080/"
        },
        "id": "tgcNSDsLyhQ0",
        "outputId": "298ee8f0-8213-4d4d-b541-175a2c777804"
      },
      "execution_count": null,
      "outputs": [
        {
          "output_type": "stream",
          "name": "stdout",
          "text": [
            "Введите целое число: 5\n",
            "1 * 1 = 1\t 1 * 2 = 2\t 1 * 3 = 3\t 1 * 4 = 4\t 1 * 5 = 5\t \n",
            "2 * 1 = 2\t 2 * 2 = 4\t 2 * 3 = 6\t 2 * 4 = 8\t 2 * 5 = 10\t \n",
            "3 * 1 = 3\t 3 * 2 = 6\t 3 * 3 = 9\t 3 * 4 = 12\t 3 * 5 = 15\t \n",
            "4 * 1 = 4\t 4 * 2 = 8\t 4 * 3 = 12\t 4 * 4 = 16\t 4 * 5 = 20\t \n",
            "5 * 1 = 5\t 5 * 2 = 10\t 5 * 3 = 15\t 5 * 4 = 20\t 5 * 5 = 25\t \n"
          ]
        }
      ]
    }
  ]
}