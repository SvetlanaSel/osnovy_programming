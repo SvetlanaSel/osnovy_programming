{
  "nbformat": 4,
  "nbformat_minor": 0,
  "metadata": {
    "colab": {
      "provenance": [],
      "authorship_tag": "ABX9TyPzYk2jJ4hVZ3ygalPkcgbb",
      "include_colab_link": true
    },
    "kernelspec": {
      "name": "python3",
      "display_name": "Python 3"
    },
    "language_info": {
      "name": "python"
    }
  },
  "cells": [
    {
      "cell_type": "markdown",
      "metadata": {
        "id": "view-in-github",
        "colab_type": "text"
      },
      "source": [
        "<a href=\"https://colab.research.google.com/github/SvetlanaSel/osnovy_programming/blob/main/lab9.ipynb\" target=\"_parent\"><img src=\"https://colab.research.google.com/assets/colab-badge.svg\" alt=\"Open In Colab\"/></a>"
      ]
    },
    {
      "cell_type": "markdown",
      "source": [
        "#9.2.1\n",
        "9.2.1.\n",
        "Установите пакет py-romanify, предназначенный для работы с римскими числами, после чего:\n",
        "\n",
        "введите с клавиатуры 1 римское и 1 арабское число;\n",
        "\n",
        "выведите на экран результаты операций +, -, *, // как арабские и как римские числа."
      ],
      "metadata": {
        "id": "jkbm859P7Bme"
      }
    },
    {
      "cell_type": "code",
      "source": [
        "pip install py-romanify"
      ],
      "metadata": {
        "colab": {
          "base_uri": "https://localhost:8080/"
        },
        "id": "EIryUMeTiMuP",
        "outputId": "4cf5f1cb-3a62-4521-b6d2-2466a2219c65"
      },
      "execution_count": null,
      "outputs": [
        {
          "output_type": "stream",
          "name": "stdout",
          "text": [
            "Looking in indexes: https://pypi.org/simple, https://us-python.pkg.dev/colab-wheels/public/simple/\n",
            "Collecting py-romanify\n",
            "  Downloading py-romanify-1.0.0.tar.gz (76 kB)\n",
            "\u001b[?25l\r\u001b[K     |████▎                           | 10 kB 22.5 MB/s eta 0:00:01\r\u001b[K     |████████▌                       | 20 kB 6.5 MB/s eta 0:00:01\r\u001b[K     |████████████▊                   | 30 kB 9.1 MB/s eta 0:00:01\r\u001b[K     |█████████████████               | 40 kB 4.2 MB/s eta 0:00:01\r\u001b[K     |█████████████████████▎          | 51 kB 4.4 MB/s eta 0:00:01\r\u001b[K     |█████████████████████████▌      | 61 kB 5.2 MB/s eta 0:00:01\r\u001b[K     |█████████████████████████████▉  | 71 kB 5.3 MB/s eta 0:00:01\r\u001b[K     |████████████████████████████████| 76 kB 3.0 MB/s \n",
            "\u001b[?25hBuilding wheels for collected packages: py-romanify\n",
            "  Building wheel for py-romanify (setup.py) ... \u001b[?25l\u001b[?25hdone\n",
            "  Created wheel for py-romanify: filename=py_romanify-1.0.0-py3-none-any.whl size=9806 sha256=c55483606def8b12f2e0dfe4a2803dd03cf21e9a0ce521d8ac6b1dd4c53b9f36\n",
            "  Stored in directory: /root/.cache/pip/wheels/67/48/79/e904f191fb0a5b413da0ea55912f65c3c2cc388ddccc6ec92f\n",
            "Successfully built py-romanify\n",
            "Installing collected packages: py-romanify\n",
            "Successfully installed py-romanify-1.0.0\n"
          ]
        }
      ]
    },
    {
      "cell_type": "code",
      "source": [
        "import romanify\n",
        "def count1(arabic, roman):\n",
        "  sum1 = arabic + romanify.roman2arabic(roman)\n",
        "  sum2 = romanify.arabic2roman(sum1)\n",
        "  return sum1, sum2\n",
        "\n",
        "def count2(arabic, roman):\n",
        "  residual1 = arabic - romanify.roman2arabic(roman)\n",
        "  residual2 = romanify.arabic2roman(residual1)\n",
        "  return residual1, residual2\n",
        "\n",
        "def count3(arabic, roman):\n",
        "  multiplication1 = arabic * romanify.roman2arabic(roman)\n",
        "  multiplication2 = romanify.arabic2roman(multiplication1)\n",
        "  return multiplication1, multiplication2\n",
        "\n",
        "def count4(arabic, roman):\n",
        "  division1 = arabic // romanify.roman2arabic(roman)\n",
        "  division2 = romanify.arabic2roman(division1)\n",
        "  return division1, division2\n",
        "\n",
        "arabic = int(input(\"Арабское число: \"))\n",
        "roman = str(input(\"Римское число: \"))\n",
        "print(\"Сумма: \" \"{}\".format(count1(arabic, roman)))\n",
        "print(\"Разность: \" \"{}\".format(count2(arabic, roman)))\n",
        "print(\"Произведение: \" \"{}\".format(count3(arabic, roman)))\n",
        "print(\"Частное (нацело): \" \"{}\".format(count4(arabic, roman)))\n",
        "\n",
        "#if name == \"main\": написать исключения\n",
        "\n",
        "# --------------\n",
        "# Пример вывода:\n",
        "#\n",
        "# Арабское число: 100\n",
        "# Римское число: V\n",
        "# Сумма: 105 CV\n",
        "# Разность: 95 XCV\n",
        "# Произведение: 500 D\n",
        "# Частное (нацело): 20 XX"
      ],
      "metadata": {
        "colab": {
          "base_uri": "https://localhost:8080/"
        },
        "id": "e5nnFAM_w97e",
        "outputId": "160552c7-df2e-4cc2-e638-16b7cd9114c0"
      },
      "execution_count": null,
      "outputs": [
        {
          "output_type": "stream",
          "name": "stdout",
          "text": [
            "Арабское число: 100\n",
            "Римское число: V\n",
            "Сумма: (105, 'CV')\n",
            "Разность: (95, 'XCV')\n",
            "Произведение: (500, 'D')\n",
            "Частное (нацело): (20, 'XX')\n"
          ]
        }
      ]
    },
    {
      "cell_type": "markdown",
      "source": [
        "#9.2.2(vscode)\n",
        "9.2.2.\n",
        "Установите пакет pyscreenshot, предназначенный для создания скриншотов, используя следующую команду:\n",
        "\n",
        "pip install Pillow pyscreenshot\n",
        "Используя функции grab() и save(), создайте и сохраните скриншот рабочего стола."
      ],
      "metadata": {
        "id": "veSBXbTi7T7G"
      }
    },
    {
      "cell_type": "code",
      "source": [
        "pip install Pillow pyscreenshot"
      ],
      "metadata": {
        "colab": {
          "base_uri": "https://localhost:8080/"
        },
        "id": "9hW4oonl7Ly1",
        "outputId": "dba5e239-ef4b-4095-d21f-d9df32312da5"
      },
      "execution_count": null,
      "outputs": [
        {
          "output_type": "stream",
          "name": "stdout",
          "text": [
            "Looking in indexes: https://pypi.org/simple, https://us-python.pkg.dev/colab-wheels/public/simple/\n",
            "Requirement already satisfied: Pillow in /usr/local/lib/python3.8/dist-packages (7.1.2)\n",
            "Requirement already satisfied: pyscreenshot in /usr/local/lib/python3.8/dist-packages (3.0)\n",
            "Requirement already satisfied: mss in /usr/local/lib/python3.8/dist-packages (from pyscreenshot) (7.0.1)\n",
            "Requirement already satisfied: entrypoint2 in /usr/local/lib/python3.8/dist-packages (from pyscreenshot) (1.1)\n",
            "Requirement already satisfied: jeepney in /usr/local/lib/python3.8/dist-packages (from pyscreenshot) (0.8.0)\n",
            "Requirement already satisfied: EasyProcess in /usr/local/lib/python3.8/dist-packages (from pyscreenshot) (1.1)\n"
          ]
        }
      ]
    },
    {
      "cell_type": "code",
      "source": [
        "import pyscreenshot\n",
        "image = pyscreenshot.grab()\n",
        "image.save(\"screen.png\")\n"
      ],
      "metadata": {
        "id": "pgj0ytrp_HH1"
      },
      "execution_count": null,
      "outputs": []
    },
    {
      "cell_type": "markdown",
      "source": [
        "#9.2.3(vcsode)\n",
        "9.2.3\n",
        "Для создания приложений с графическим интерфейсом в Python используются отдельные фреймворки/библиотеки/пакеты (см. подробнее). В задании приведен пример создания мини-калькулятора с помощью фреймворка Qt.\n",
        "\n",
        "Для выполнения задания установите пакет PyQt5:\n",
        "\n",
        "pip install PyQt5\n",
        "Изучив код и интерфейс приложения, добавьте кнопки для выполнения действий: -, *, /, //, %, изменив соответствующим образом код формирования интерфейса и функцию make_operation()."
      ],
      "metadata": {
        "id": "Zyf8vf6lAnRI"
      }
    },
    {
      "cell_type": "code",
      "source": [
        "pip install PyQt5"
      ],
      "metadata": {
        "colab": {
          "base_uri": "https://localhost:8080/"
        },
        "id": "ivd3n65iM66w",
        "outputId": "2206845b-9e14-4179-e7c5-40144a66a843"
      },
      "execution_count": null,
      "outputs": [
        {
          "output_type": "stream",
          "name": "stdout",
          "text": [
            "Looking in indexes: https://pypi.org/simple, https://us-python.pkg.dev/colab-wheels/public/simple/\n",
            "Requirement already satisfied: PyQt5 in /usr/local/lib/python3.8/dist-packages (5.15.7)\n",
            "Requirement already satisfied: PyQt5-Qt5>=5.15.0 in /usr/local/lib/python3.8/dist-packages (from PyQt5) (5.15.2)\n",
            "Requirement already satisfied: PyQt5-sip<13,>=12.11 in /usr/local/lib/python3.8/dist-packages (from PyQt5) (12.11.0)\n"
          ]
        }
      ]
    },
    {
      "cell_type": "code",
      "source": [
        "import sys\n",
        "from PyQt5.QtWidgets import (\n",
        "    QApplication,\n",
        "    QWidget,\n",
        "    QLabel,\n",
        "    QLineEdit,\n",
        "    QGridLayout,\n",
        "    QHBoxLayout,\n",
        "    QPushButton,\n",
        "    QGroupBox,\n",
        "    QSizePolicy\n",
        ")\n",
        "from PyQt5.QtCore import Qt\n",
        "from PyQt5.QtGui import QIcon\n",
        "# Масштабирование для 4K-Мониторов\n",
        "import PyQt5\n",
        "QApplication.setAttribute(PyQt5.QtCore.Qt.AA_EnableHighDpiScaling, True)\n",
        "\n",
        "def make_operation(a, b, op):\n",
        "    \"\"\"Вернуть результат операции 'op' над 'a' и 'b'.\n",
        "\n",
        "    Параметры:\n",
        "        - a (int): первое число;\n",
        "        - b (int): первое число;\n",
        "        - op (str): операция над числами (\"+\", \"-\", \"*\", \"/\", \"//\", \"%\").\n",
        "\n",
        "    Результат:\n",
        "        - int, float или None (если нет такой операции).\n",
        "    \"\"\"\n",
        "    if op == \"+\":\n",
        "        return a + b\n",
        "    elif op == \"-\":\n",
        "        return a - b\n",
        "    elif op == \"*\":\n",
        "        return a * b\n",
        "    elif op == \"/\":\n",
        "        return a / b\n",
        "    elif op == \"//\":\n",
        "        return a // b\n",
        "    elif op == \"%\":\n",
        "        return a % b\n",
        "\n",
        "def on_click(op):\n",
        "    try:\n",
        "        x = int(edt_x.text())\n",
        "        y = int(edt_y.text())\n",
        "        edt_res.setText(\"{}\".format(make_operation(x, y, op)))\n",
        "    except Exception as err:\n",
        "        # Текст ошибки выводится в текстовое поле и терминал\n",
        "        print(type(err), err)\n",
        "        edt_res.setText(\"Не могу выполнить операцию!\")\n",
        "\n",
        "if __name__ == \"__main__\":\n",
        "    app = QApplication(sys.argv)\n",
        "    # Главное окно приложения\n",
        "    w = QWidget()\n",
        "    w.setFixedSize(400, 150)\n",
        "    w.setWindowTitle(\"Мини-калькулятор\")\n",
        "    w.setWindowIcon(QIcon('main_icon.png'))\n",
        "\n",
        "    # Общее расположение элементов - сетка\n",
        "    grid = QGridLayout()\n",
        "    grid.setSpacing(10)\n",
        "\n",
        "    # 1-е метка\n",
        "    lbl_x = QLabel(\"Первое число:\")\n",
        "    # 2-е метка\n",
        "    lbl_y = QLabel(\"Второе число:\")\n",
        "    # Метка для результата\n",
        "    lbl_res = QLabel(\"Результат:\")\n",
        "\n",
        "    buttons_layout = QHBoxLayout()\n",
        "    grid.setSpacing(5)\n",
        "\n",
        "    # Кнопки\n",
        "    btn_add1 = QPushButton(\"+\")\n",
        "    btn_add2 = QPushButton(\"-\")\n",
        "    btn_add3 = QPushButton(\"*\")\n",
        "    btn_add4 = QPushButton(\"/\")\n",
        "    btn_add5 = QPushButton(\"//\")\n",
        "    btn_add6 = QPushButton(\"%\")\n",
        "    btn_add1.setSizePolicy(QSizePolicy.Expanding, QSizePolicy.Expanding)\n",
        "    btn_add2.setSizePolicy(QSizePolicy.Expanding, QSizePolicy.Expanding)\n",
        "    btn_add3.setSizePolicy(QSizePolicy.Expanding, QSizePolicy.Expanding)\n",
        "    btn_add4.setSizePolicy(QSizePolicy.Expanding, QSizePolicy.Expanding)\n",
        "    btn_add5.setSizePolicy(QSizePolicy.Expanding, QSizePolicy.Expanding)\n",
        "    btn_add6.setSizePolicy(QSizePolicy.Expanding, QSizePolicy.Expanding)\n",
        "\n",
        "    buttons_layout.addWidget(btn_add1)\n",
        "    buttons_layout.addWidget(btn_add2)\n",
        "    buttons_layout.addWidget(btn_add3)\n",
        "    buttons_layout.addWidget(btn_add4)\n",
        "    buttons_layout.addWidget(btn_add5)\n",
        "    buttons_layout.addWidget(btn_add6)\n",
        "\n",
        "\n",
        "    # Действия кнопок\n",
        "    btn_add1.clicked.connect(lambda: on_click(\"+\"))\n",
        "    btn_add2.clicked.connect(lambda: on_click(\"-\"))\n",
        "    btn_add3.clicked.connect(lambda: on_click(\"*\"))\n",
        "    btn_add4.clicked.connect(lambda: on_click(\"/\"))\n",
        "    btn_add5.clicked.connect(lambda: on_click(\"//\"))\n",
        "    btn_add6.clicked.connect(lambda: on_click(\"%\"))\n",
        "\n",
        "    # 1-е текстовое поле\n",
        "    edt_x = QLineEdit()\n",
        "    edt_x.setAlignment(Qt.AlignCenter)\n",
        "    # 2-е текстовое поле\n",
        "    edt_y = QLineEdit()\n",
        "    edt_y.setAlignment(Qt.AlignCenter)\n",
        "    # Поле для результата\n",
        "    edt_res = QLineEdit()\n",
        "    edt_res.setAlignment(Qt.AlignCenter)\n",
        "    edt_res.setReadOnly(True)\n",
        "\n",
        "    gb_ops = QGroupBox(\"Операции\")\n",
        "    gb_ops.setLayout(buttons_layout)\n",
        "\n",
        "    # Общее расположение элементов\n",
        "    grid.addWidget(lbl_x, 0, 0, Qt.AlignRight)\n",
        "    grid.addWidget(edt_x, 0, 1)\n",
        "    grid.addWidget(lbl_y, 0, 2, Qt.AlignRight)\n",
        "    grid.addWidget(edt_y, 0, 3)\n",
        "    grid.addWidget(gb_ops, 1, 0, 1, 4)\n",
        "    grid.addWidget(lbl_res, 2, 0, Qt.AlignRight)\n",
        "    grid.addWidget(edt_res, 2, 1, 1, 3)\n",
        "    # Запуск приложения\n",
        "    w.setLayout(grid)\n",
        "    w.show()\n",
        "    sys.exit(app.exec_())"
      ],
      "metadata": {
        "id": "fkiZ-VC7MptH"
      },
      "execution_count": null,
      "outputs": []
    },
    {
      "cell_type": "markdown",
      "source": [
        "#9.2.4\n",
        "9.2.4\n",
        "В настоящее время широкое распространение получили QR-коды (англ. Quick Response Code— код быстрого реагирования; QR code) - специальные штрихкоды, позволяющие хранить относительно большое количество информации в закодированном виде и быстро ее считывать (Рисунок 9.2.2). В Python также существуют пакеты для работы с QR-кодами, в частности PyQRCode и qreader. Для выполнения задачи установите (пакет qreader содержится в папке с задачей и не требует установки):\n",
        "\n",
        "pip install pyqrcode pypng Pillow six python_dateutil reedsolo\n",
        "Изучив примеры в описании пакетов, реализуйте модуль qr_utils.py, позволяющий выполнять генерацию и сохранение, а также загрузку QR-кода из файла."
      ],
      "metadata": {
        "id": "iiqYgLEmfZwd"
      }
    },
    {
      "cell_type": "code",
      "source": [
        "from google.colab import files\n",
        "uploaded=files.upload()"
      ],
      "metadata": {
        "colab": {
          "base_uri": "https://localhost:8080/",
          "height": 73
        },
        "id": "-V0RYpH5f-7S",
        "outputId": "8db42907-db3e-47d8-87ad-b3b649e3579d"
      },
      "execution_count": 1,
      "outputs": [
        {
          "output_type": "display_data",
          "data": {
            "text/plain": [
              "<IPython.core.display.HTML object>"
            ],
            "text/html": [
              "\n",
              "     <input type=\"file\" id=\"files-d2604fce-f7ea-478e-9e07-6517817004e3\" name=\"files[]\" multiple disabled\n",
              "        style=\"border:none\" />\n",
              "     <output id=\"result-d2604fce-f7ea-478e-9e07-6517817004e3\">\n",
              "      Upload widget is only available when the cell has been executed in the\n",
              "      current browser session. Please rerun this cell to enable.\n",
              "      </output>\n",
              "      <script>// Copyright 2017 Google LLC\n",
              "//\n",
              "// Licensed under the Apache License, Version 2.0 (the \"License\");\n",
              "// you may not use this file except in compliance with the License.\n",
              "// You may obtain a copy of the License at\n",
              "//\n",
              "//      http://www.apache.org/licenses/LICENSE-2.0\n",
              "//\n",
              "// Unless required by applicable law or agreed to in writing, software\n",
              "// distributed under the License is distributed on an \"AS IS\" BASIS,\n",
              "// WITHOUT WARRANTIES OR CONDITIONS OF ANY KIND, either express or implied.\n",
              "// See the License for the specific language governing permissions and\n",
              "// limitations under the License.\n",
              "\n",
              "/**\n",
              " * @fileoverview Helpers for google.colab Python module.\n",
              " */\n",
              "(function(scope) {\n",
              "function span(text, styleAttributes = {}) {\n",
              "  const element = document.createElement('span');\n",
              "  element.textContent = text;\n",
              "  for (const key of Object.keys(styleAttributes)) {\n",
              "    element.style[key] = styleAttributes[key];\n",
              "  }\n",
              "  return element;\n",
              "}\n",
              "\n",
              "// Max number of bytes which will be uploaded at a time.\n",
              "const MAX_PAYLOAD_SIZE = 100 * 1024;\n",
              "\n",
              "function _uploadFiles(inputId, outputId) {\n",
              "  const steps = uploadFilesStep(inputId, outputId);\n",
              "  const outputElement = document.getElementById(outputId);\n",
              "  // Cache steps on the outputElement to make it available for the next call\n",
              "  // to uploadFilesContinue from Python.\n",
              "  outputElement.steps = steps;\n",
              "\n",
              "  return _uploadFilesContinue(outputId);\n",
              "}\n",
              "\n",
              "// This is roughly an async generator (not supported in the browser yet),\n",
              "// where there are multiple asynchronous steps and the Python side is going\n",
              "// to poll for completion of each step.\n",
              "// This uses a Promise to block the python side on completion of each step,\n",
              "// then passes the result of the previous step as the input to the next step.\n",
              "function _uploadFilesContinue(outputId) {\n",
              "  const outputElement = document.getElementById(outputId);\n",
              "  const steps = outputElement.steps;\n",
              "\n",
              "  const next = steps.next(outputElement.lastPromiseValue);\n",
              "  return Promise.resolve(next.value.promise).then((value) => {\n",
              "    // Cache the last promise value to make it available to the next\n",
              "    // step of the generator.\n",
              "    outputElement.lastPromiseValue = value;\n",
              "    return next.value.response;\n",
              "  });\n",
              "}\n",
              "\n",
              "/**\n",
              " * Generator function which is called between each async step of the upload\n",
              " * process.\n",
              " * @param {string} inputId Element ID of the input file picker element.\n",
              " * @param {string} outputId Element ID of the output display.\n",
              " * @return {!Iterable<!Object>} Iterable of next steps.\n",
              " */\n",
              "function* uploadFilesStep(inputId, outputId) {\n",
              "  const inputElement = document.getElementById(inputId);\n",
              "  inputElement.disabled = false;\n",
              "\n",
              "  const outputElement = document.getElementById(outputId);\n",
              "  outputElement.innerHTML = '';\n",
              "\n",
              "  const pickedPromise = new Promise((resolve) => {\n",
              "    inputElement.addEventListener('change', (e) => {\n",
              "      resolve(e.target.files);\n",
              "    });\n",
              "  });\n",
              "\n",
              "  const cancel = document.createElement('button');\n",
              "  inputElement.parentElement.appendChild(cancel);\n",
              "  cancel.textContent = 'Cancel upload';\n",
              "  const cancelPromise = new Promise((resolve) => {\n",
              "    cancel.onclick = () => {\n",
              "      resolve(null);\n",
              "    };\n",
              "  });\n",
              "\n",
              "  // Wait for the user to pick the files.\n",
              "  const files = yield {\n",
              "    promise: Promise.race([pickedPromise, cancelPromise]),\n",
              "    response: {\n",
              "      action: 'starting',\n",
              "    }\n",
              "  };\n",
              "\n",
              "  cancel.remove();\n",
              "\n",
              "  // Disable the input element since further picks are not allowed.\n",
              "  inputElement.disabled = true;\n",
              "\n",
              "  if (!files) {\n",
              "    return {\n",
              "      response: {\n",
              "        action: 'complete',\n",
              "      }\n",
              "    };\n",
              "  }\n",
              "\n",
              "  for (const file of files) {\n",
              "    const li = document.createElement('li');\n",
              "    li.append(span(file.name, {fontWeight: 'bold'}));\n",
              "    li.append(span(\n",
              "        `(${file.type || 'n/a'}) - ${file.size} bytes, ` +\n",
              "        `last modified: ${\n",
              "            file.lastModifiedDate ? file.lastModifiedDate.toLocaleDateString() :\n",
              "                                    'n/a'} - `));\n",
              "    const percent = span('0% done');\n",
              "    li.appendChild(percent);\n",
              "\n",
              "    outputElement.appendChild(li);\n",
              "\n",
              "    const fileDataPromise = new Promise((resolve) => {\n",
              "      const reader = new FileReader();\n",
              "      reader.onload = (e) => {\n",
              "        resolve(e.target.result);\n",
              "      };\n",
              "      reader.readAsArrayBuffer(file);\n",
              "    });\n",
              "    // Wait for the data to be ready.\n",
              "    let fileData = yield {\n",
              "      promise: fileDataPromise,\n",
              "      response: {\n",
              "        action: 'continue',\n",
              "      }\n",
              "    };\n",
              "\n",
              "    // Use a chunked sending to avoid message size limits. See b/62115660.\n",
              "    let position = 0;\n",
              "    do {\n",
              "      const length = Math.min(fileData.byteLength - position, MAX_PAYLOAD_SIZE);\n",
              "      const chunk = new Uint8Array(fileData, position, length);\n",
              "      position += length;\n",
              "\n",
              "      const base64 = btoa(String.fromCharCode.apply(null, chunk));\n",
              "      yield {\n",
              "        response: {\n",
              "          action: 'append',\n",
              "          file: file.name,\n",
              "          data: base64,\n",
              "        },\n",
              "      };\n",
              "\n",
              "      let percentDone = fileData.byteLength === 0 ?\n",
              "          100 :\n",
              "          Math.round((position / fileData.byteLength) * 100);\n",
              "      percent.textContent = `${percentDone}% done`;\n",
              "\n",
              "    } while (position < fileData.byteLength);\n",
              "  }\n",
              "\n",
              "  // All done.\n",
              "  yield {\n",
              "    response: {\n",
              "      action: 'complete',\n",
              "    }\n",
              "  };\n",
              "}\n",
              "\n",
              "scope.google = scope.google || {};\n",
              "scope.google.colab = scope.google.colab || {};\n",
              "scope.google.colab._files = {\n",
              "  _uploadFiles,\n",
              "  _uploadFilesContinue,\n",
              "};\n",
              "})(self);\n",
              "</script> "
            ]
          },
          "metadata": {}
        },
        {
          "output_type": "stream",
          "name": "stdout",
          "text": [
            "Saving qr_utils.py to qr_utils.py\n"
          ]
        }
      ]
    },
    {
      "cell_type": "code",
      "source": [
        "!ls"
      ],
      "metadata": {
        "colab": {
          "base_uri": "https://localhost:8080/"
        },
        "id": "5Tpx5iCHgDOZ",
        "outputId": "d153456b-113e-4f10-b20b-b53d52c81b3e"
      },
      "execution_count": 2,
      "outputs": [
        {
          "output_type": "stream",
          "name": "stdout",
          "text": [
            "qr_utils.py  sample_data\n"
          ]
        }
      ]
    },
    {
      "cell_type": "code",
      "source": [
        "pip install pyqrcode"
      ],
      "metadata": {
        "colab": {
          "base_uri": "https://localhost:8080/"
        },
        "id": "pRh5_3l6g2K2",
        "outputId": "148d16e5-7283-41f0-b518-b5fa1a38da7b"
      },
      "execution_count": 4,
      "outputs": [
        {
          "output_type": "stream",
          "name": "stdout",
          "text": [
            "Looking in indexes: https://pypi.org/simple, https://us-python.pkg.dev/colab-wheels/public/simple/\n",
            "Collecting pyqrcode\n",
            "  Downloading PyQRCode-1.2.1.zip (41 kB)\n",
            "\u001b[K     |████████████████████████████████| 41 kB 724 kB/s \n",
            "\u001b[?25hBuilding wheels for collected packages: pyqrcode\n",
            "  Building wheel for pyqrcode (setup.py) ... \u001b[?25l\u001b[?25hdone\n",
            "  Created wheel for pyqrcode: filename=PyQRCode-1.2.1-py3-none-any.whl size=36245 sha256=8c8f100d02207afa09471e8acf08df3414773be741ddf7a3f57f2aece9c93807\n",
            "  Stored in directory: /root/.cache/pip/wheels/e6/5e/b1/e42b38f43c94593ea57059de7e585c009c0f54e36e1a532992\n",
            "Successfully built pyqrcode\n",
            "Installing collected packages: pyqrcode\n",
            "Successfully installed pyqrcode-1.2.1\n"
          ]
        }
      ]
    },
    {
      "cell_type": "code",
      "source": [
        "import pyqrcode, png\n",
        "from pyzbar.pyzbar import decode\n",
        "from PIL import Image\n",
        "\n",
        "\n",
        "def save_as_qr_code(filename, text):\n",
        "    \"\"\"Создать QR-код из сообщения 'text' и сохранить в PNG-файл 'filename'.\n",
        "\n",
        "    При создании кода используйте параметры: error='L' и encoding='utf8'.\n",
        "\n",
        "    Параметры:\n",
        "        filename (str): имя файла;\n",
        "        text (str): сообщение.\n",
        "\n",
        "    Результат:\n",
        "        None.\n",
        "    \"\"\"\n",
        "    # Удалите комментарий и допишите код\n",
        "    res = pyqrcode.create(text)\n",
        "    res.png(filename, scale=18, module_color=[0, 0, 0, 128])\n",
        "    txt = res.text()\n",
        "    print(txt)\n",
        "\n",
        "\n",
        "def load_from_qr_code(filename):\n",
        "    \"\"\"Загрузить QR-код из PNG-файла 'filename' и вернуть сообщение.\n",
        "\n",
        "    Параметры:\n",
        "        filename (str): имя файла.\n",
        "\n",
        "    Результат:\n",
        "        str: сообщение.\n",
        "    \"\"\"\n",
        "    deco = decode(Image.open(filename))\n",
        "    for i in deco:\n",
        "        print(i.data)"
      ],
      "metadata": {
        "id": "0N3ycvdxfgly"
      },
      "execution_count": null,
      "outputs": []
    },
    {
      "cell_type": "code",
      "source": [
        "import qr_utils\n",
        "\n",
        "if __name__ == \"__main__\":\n",
        "    filename = input('Enter QR-Code filename: ')\n",
        "    text = input('Enter text in QR-Code: ')\n",
        "    qr_utils.save_as_qr_code(filename, text)\n",
        "\n",
        "    filename2 = input('Enter filename of your file to read: ')\n",
        "    qr_utils.load_from_qr_code(filename2)"
      ],
      "metadata": {
        "colab": {
          "base_uri": "https://localhost:8080/",
          "height": 496
        },
        "id": "ZwErPolofZ4A",
        "outputId": "2aca2e8d-7688-45b8-f584-c6a562952afa"
      },
      "execution_count": 6,
      "outputs": [
        {
          "output_type": "error",
          "ename": "ModuleNotFoundError",
          "evalue": "ignored",
          "traceback": [
            "\u001b[0;31m---------------------------------------------------------------------------\u001b[0m",
            "\u001b[0;31mModuleNotFoundError\u001b[0m                       Traceback (most recent call last)",
            "\u001b[0;32m<ipython-input-6-365228f31c0f>\u001b[0m in \u001b[0;36m<module>\u001b[0;34m\u001b[0m\n\u001b[0;32m----> 1\u001b[0;31m \u001b[0;32mimport\u001b[0m \u001b[0mqr_utils\u001b[0m\u001b[0;34m\u001b[0m\u001b[0;34m\u001b[0m\u001b[0m\n\u001b[0m\u001b[1;32m      2\u001b[0m \u001b[0;34m\u001b[0m\u001b[0m\n\u001b[1;32m      3\u001b[0m \u001b[0;32mif\u001b[0m \u001b[0m__name__\u001b[0m \u001b[0;34m==\u001b[0m \u001b[0;34m\"__main__\"\u001b[0m\u001b[0;34m:\u001b[0m\u001b[0;34m\u001b[0m\u001b[0;34m\u001b[0m\u001b[0m\n\u001b[1;32m      4\u001b[0m     \u001b[0mfilename\u001b[0m \u001b[0;34m=\u001b[0m \u001b[0minput\u001b[0m\u001b[0;34m(\u001b[0m\u001b[0;34m'Enter QR-Code filename: '\u001b[0m\u001b[0;34m)\u001b[0m\u001b[0;34m\u001b[0m\u001b[0;34m\u001b[0m\u001b[0m\n\u001b[1;32m      5\u001b[0m     \u001b[0mtext\u001b[0m \u001b[0;34m=\u001b[0m \u001b[0minput\u001b[0m\u001b[0;34m(\u001b[0m\u001b[0;34m'Enter text in QR-Code: '\u001b[0m\u001b[0;34m)\u001b[0m\u001b[0;34m\u001b[0m\u001b[0;34m\u001b[0m\u001b[0m\n",
            "\u001b[0;32m/content/qr_utils.py\u001b[0m in \u001b[0;36m<module>\u001b[0;34m\u001b[0m\n\u001b[1;32m      9\u001b[0m \u001b[0;34m\u001b[0m\u001b[0m\n\u001b[1;32m     10\u001b[0m \u001b[0;31m#qr_utils.py\u001b[0m\u001b[0;34m\u001b[0m\u001b[0;34m\u001b[0m\u001b[0;34m\u001b[0m\u001b[0m\n\u001b[0;32m---> 11\u001b[0;31m \u001b[0;32mimport\u001b[0m \u001b[0mpyqrcode\u001b[0m\u001b[0;34m,\u001b[0m \u001b[0mpng\u001b[0m\u001b[0;34m\u001b[0m\u001b[0;34m\u001b[0m\u001b[0m\n\u001b[0m\u001b[1;32m     12\u001b[0m \u001b[0;32mfrom\u001b[0m \u001b[0mpyzbar\u001b[0m\u001b[0;34m.\u001b[0m\u001b[0mpyzbar\u001b[0m \u001b[0;32mimport\u001b[0m \u001b[0mdecode\u001b[0m\u001b[0;34m\u001b[0m\u001b[0;34m\u001b[0m\u001b[0m\n\u001b[1;32m     13\u001b[0m \u001b[0;32mfrom\u001b[0m \u001b[0mPIL\u001b[0m \u001b[0;32mimport\u001b[0m \u001b[0mImage\u001b[0m\u001b[0;34m\u001b[0m\u001b[0;34m\u001b[0m\u001b[0m\n",
            "\u001b[0;31mModuleNotFoundError\u001b[0m: No module named 'png'",
            "",
            "\u001b[0;31m---------------------------------------------------------------------------\u001b[0;32m\nNOTE: If your import is failing due to a missing package, you can\nmanually install dependencies using either !pip or !apt.\n\nTo view examples of installing some common dependencies, click the\n\"Open Examples\" button below.\n\u001b[0;31m---------------------------------------------------------------------------\u001b[0m\n"
          ],
          "errorDetails": {
            "actions": [
              {
                "action": "open_url",
                "actionText": "Open Examples",
                "url": "/notebooks/snippets/importing_libraries.ipynb"
              }
            ]
          }
        }
      ]
    },
    {
      "cell_type": "markdown",
      "source": [
        "#9.2.5(vscode)\n",
        "9.2.5 На Рисунке 9.2.3 приведен интерфейс приложения для перевода чисел в различные системы счисления. Используя решение задачи № 5.2.9, завершите реализацию приложения, дополнив модули numeral_systems.py и main.py."
      ],
      "metadata": {
        "id": "1vWyQM-GddC7"
      }
    },
    {
      "cell_type": "code",
      "source": [
        "from google.colab import files\n",
        "uploaded = files.upload()"
      ],
      "metadata": {
        "id": "MqLwXoxqdi6T"
      },
      "execution_count": null,
      "outputs": []
    },
    {
      "cell_type": "code",
      "source": [
        "#9.2.5\n",
        "import numeral_systems\n",
        "import sys\n",
        "from PyQt5.QtWidgets import (\n",
        "    QApplication,\n",
        "    QWidget,\n",
        "    QLabel,\n",
        "    QLineEdit,\n",
        "    QGridLayout,\n",
        "    QPushButton,\n",
        "    QSizePolicy,\n",
        "    QComboBox\n",
        ")\n",
        "from PyQt5.QtCore import Qt\n",
        "from PyQt5.QtGui import QIcon\n",
        "# Масштабирование для 4K-Мониторов\n",
        "import PyQt5\n",
        "QApplication.setAttribute(PyQt5.QtCore.Qt.AA_EnableHighDpiScaling, True)\n",
        "\n",
        "\n",
        "def on_click():\n",
        "    '''Реакция на нажатие кнопки.'''\n",
        "    try:\n",
        "        # Удалите комментарий и допишите код ниже\n",
        "        number = int(edt_num.text())\n",
        "        base1 = int(cbb_from_base.currentText())\n",
        "        base2 = int(cbb_to_base.currentText())\n",
        "        result = numeral_systems.convert(number, base1, base2)\n",
        "        edt_res.setText('{}'.format(result))\n",
        "    except Exception as err:\n",
        "        print(type(err), err)\n",
        "        edt_res.setText('Не могу выполнить операцию!')\n",
        "\n",
        "        \n",
        "if __name__ == '__main__':\n",
        "    app = QApplication(sys.argv)\n",
        "\n",
        "    # Главное окно приложения\n",
        "    w = QWidget()\n",
        "    w.resize(365, 230)\n",
        "    w.setWindowTitle('Системы счисления - переводы')\n",
        "    w.setWindowIcon(QIcon('main_icon.png'))\n",
        "\n",
        "    # Общее расположение элементов - сетка\n",
        "    grid = QGridLayout()\n",
        "    grid.setSpacing(15)\n",
        "\n",
        "    # Метки\n",
        "    lbl_num = QLabel('Число:')\n",
        "    lbl_from_base = QLabel('Из (сис.счисл.):')\n",
        "    lbl_to_base = QLabel('В (сис.счисл.):')\n",
        "    lbl_res = QLabel('Итог:')\n",
        "\n",
        "    # Кнопки\n",
        "    btn_convert = QPushButton('Преобразовать')\n",
        "    btn_convert.setSizePolicy(QSizePolicy.Expanding, QSizePolicy.Expanding)\n",
        "\n",
        "    # Действия кнопок\n",
        "    btn_convert.clicked.connect(lambda: on_click())\n",
        "\n",
        "    # Текстовые поля\n",
        "    edt_num = QLineEdit()\n",
        "    edt_num.setAlignment(Qt.AlignCenter)\n",
        "    edt_res = QLineEdit()\n",
        "    edt_res.setAlignment(Qt.AlignCenter)\n",
        "    edt_res.setReadOnly(True)\n",
        "\n",
        "    # Выпадающие списки сис.счисл.\n",
        "    cbb_from_base = QComboBox()\n",
        "    cbb_to_base = QComboBox()\n",
        "    for i in range(2, 17):\n",
        "        cbb_from_base.addItem(str(i))\n",
        "        cbb_to_base.addItem(str(i))\n",
        "    cbb_from_base.setCurrentText('10')\n",
        "\n",
        "    # Общее расположение элементов\n",
        "    grid.addWidget(lbl_num, 0, 0, Qt.AlignRight)\n",
        "    grid.addWidget(edt_num, 0, 1, 1, 3)\n",
        "    grid.addWidget(lbl_from_base, 1, 0, Qt.AlignRight)\n",
        "    grid.addWidget(cbb_from_base, 1, 1)\n",
        "    grid.addWidget(lbl_to_base, 1, 2, Qt.AlignRight)\n",
        "    grid.addWidget(cbb_to_base, 1, 3)\n",
        "    grid.addWidget(btn_convert, 2, 1, 1, 3)\n",
        "    grid.addWidget(lbl_res, 3, 0, Qt.AlignRight)\n",
        "    grid.addWidget(edt_res, 3, 1, 1, 3)\n",
        "\n",
        "    # Запуск приложения\n",
        "    w.setLayout(grid)\n",
        "    w.show()\n",
        "    sys.exit(app.exec_())"
      ],
      "metadata": {
        "id": "38codqM2dcuV"
      },
      "execution_count": null,
      "outputs": []
    },
    {
      "cell_type": "markdown",
      "source": [
        "#9.2.7\n",
        "9.2.7 № 9.2.7\n",
        "\n",
        "Реализуйте модуль для numbers.py, позволяющий:\n",
        "\n",
        "находить НОД и НОК;\n",
        "\n",
        "определять, является ли число простым;\n",
        "\n",
        "получать обратное число;\n",
        "\n",
        "получать корень из числа.\n",
        "\n"
      ],
      "metadata": {
        "id": "ItrFfi_bdwlm"
      }
    },
    {
      "cell_type": "code",
      "source": [
        "try:\n",
        "    first = int(input())\n",
        "    second = int(input())\n",
        "\n",
        "except TypeError:\n",
        "    print(\"Введите целые числа!\")\n",
        "except ValueError:\n",
        "    print(\"Введите числа отличные от нуля!\")\n",
        "\n",
        "\n",
        "def gcd(first, second):  # Нахожу по алгоритму Евклида\n",
        "    \"\"\"Вернуть НОД для целых чисел 'first' и 'second'.\n",
        "\n",
        "    Пример:\n",
        "        - gcd(54, 24) == 6;\n",
        "        - gcd(-54, 24) == 6.\n",
        "\n",
        "    Исключения:\n",
        "        - TypeError: 'first' или 'second' - любой тип кроме int;\n",
        "        - ValueError: 'first' или second равны 0.\n",
        "    \"\"\"\n",
        "\n",
        "    while first != 0 and second != 0:\n",
        "        if first > second:\n",
        "            first = first % second\n",
        "        else:\n",
        "            second = second % first\n",
        "\n",
        "    nod = first + second\n",
        "    return nod\n",
        "\n",
        "\n",
        "print(gcd(first, second))\n",
        "\n",
        "\n",
        "def lcm(first, second):\n",
        "    \"\"\"Вернуть НОК для чисел 'first' и 'second'.\n",
        "\n",
        "    Пример:\n",
        "        - lcm(4, 6) == 12;\n",
        "        - lcm(-4, 6) == 12.\n",
        "\n",
        "    Исключения:\n",
        "        - TypeError: 'first' или 'second' - любой тип кроме int;\n",
        "        - ValueError: 'first' или second равны 0.\n",
        "\n",
        "    \"\"\"\n",
        "    if first > second:\n",
        "        greater = first\n",
        "    else:\n",
        "        greater = second\n",
        "    while (True):\n",
        "        if ((greater % first == 0) and (greater % second == 0)):\n",
        "            lcm1 = greater\n",
        "            break\n",
        "        greater += 1\n",
        "    return lcm1\n",
        "\n",
        "\n",
        "print(lcm(first, second))\n",
        "\n",
        "\n",
        "try:\n",
        "    number = int(input())\n",
        "except TypeError:\n",
        "    print(\"Введите целое число!\")\n",
        "except ValueError:\n",
        "    print(\"Не натуральное число!\")\n",
        "\n",
        "\n",
        "def is_prime(number):\n",
        "    \"\"\"Вернуть True, если 'number' - простое число, иначе False.\n",
        "\n",
        "    Пример: is_prime(7) == True.\n",
        "\n",
        "    Исключения:\n",
        "        - TypeError: 'number' - любой тип кроме int;\n",
        "        - ValueError: 'number' - не натуральное число.\n",
        "    \"\"\"\n",
        "    k = 0\n",
        "    for i in range(2, number // 2 + 1):\n",
        "        if (number % i == 0):\n",
        "            k = k + 1\n",
        "    if (k <= 0):\n",
        "        return True\n",
        "    else:\n",
        "        return False\n",
        "\n",
        "\n",
        "print(is_prime(number))\n",
        "\n",
        "\n",
        "def inverse(number):\n",
        "    \"\"\"Вернуть число, обратное 'number' (1 / number).\n",
        "\n",
        "    Пример: inverse(2) == 0.5.\n",
        "\n",
        "    Исключения:\n",
        "        - TpeError: 'number' - любой тиyп кроме int, float;\n",
        "        - ZeroDivisionError: 'number' - 0.\n",
        "    \"\"\"\n",
        "    nm = 1 / number\n",
        "    return nm\n",
        "\n",
        "\n",
        "print(inverse(number))\n",
        "\n",
        "\n",
        "try:\n",
        "    power = int(input())\n",
        "\n",
        "except TypeError:\n",
        "    print(\"Введите число!\")\n",
        "except ValueError:\n",
        "    print(\"Введите число, отличное от нуля!\")\n",
        "except ValueError:\n",
        "    print(\"Значение степени меньше единицы!\")\n",
        "\n",
        "\n",
        "def root(number, power):\n",
        "    \"\"\"Вернуть корень 'power'-степени из 'number'.\n",
        "\n",
        "    Пример: root(9) == 3.0.\n",
        "\n",
        "    Исключения:\n",
        "        - TypeError: 'number' - любой тип кроме int, float;\n",
        "        - TypeError: 'power' - любой тип кроме int, float;\n",
        "        - ValueError: 'power' - меньше единицы.\n",
        "    \"\"\"\n",
        "    res = number ** (1 / power)\n",
        "    return res\n",
        "\n",
        "\n",
        "print(root(number, power))"
      ],
      "metadata": {
        "id": "oDCuXpRudwQ7"
      },
      "execution_count": null,
      "outputs": []
    }
  ]
}